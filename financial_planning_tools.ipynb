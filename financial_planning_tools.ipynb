{
 "cells": [
  {
   "cell_type": "markdown",
   "metadata": {},
   "source": [
    "# Financial Planning with APIs and Simulations\n",
    "\n",
    "In this Challenge, you’ll create two financial analysis tools by using a single Jupyter notebook:\n",
    "\n",
    "Part 1: A financial planner for emergencies. The members will be able to use this tool to visualize their current savings. The members can then determine if they have enough reserves for an emergency fund.\n",
    "\n",
    "Part 2: A financial planner for retirement. This tool will forecast the performance of their retirement portfolio in 30 years. To do this, the tool will make an Alpaca API call via the Alpaca SDK to get historical price data for use in Monte Carlo simulations.\n",
    "\n",
    "You’ll use the information from the Monte Carlo simulation to answer questions about the portfolio in your Jupyter notebook.\n",
    "\n"
   ]
  },
  {
   "cell_type": "code",
   "execution_count": 1,
   "metadata": {},
   "outputs": [],
   "source": [
    "# Import the required libraries and dependencies\n",
    "import os\n",
    "import requests\n",
    "import json\n",
    "import pandas as pd\n",
    "from dotenv import load_dotenv\n",
    "import alpaca_trade_api as tradeapi\n",
    "import datetime\n",
    "from MCForecastTools import MCSimulation\n",
    "\n",
    "%matplotlib inline"
   ]
  },
  {
   "cell_type": "code",
   "execution_count": 2,
   "metadata": {},
   "outputs": [
    {
     "data": {
      "text/plain": [
       "True"
      ]
     },
     "execution_count": 2,
     "metadata": {},
     "output_type": "execute_result"
    }
   ],
   "source": [
    "# Load the environment variables from the .env file\n",
    "load_dotenv()"
   ]
  },
  {
   "cell_type": "markdown",
   "metadata": {},
   "source": [
    "## Part 1: Create a Financial Planner for Emergencies"
   ]
  },
  {
   "cell_type": "markdown",
   "metadata": {},
   "source": [
    "### Evaluate the Cryptocurrency Wallet by Using the Requests Library\n",
    "\n",
    "In this section, you’ll determine the current value of a member’s cryptocurrency wallet. You’ll collect the current prices for the Bitcoin and Ethereum cryptocurrencies by using the Python Requests library. For the prototype, you’ll assume that the member holds the 1.2 Bitcoins (BTC) and 5.3 Ethereum coins (ETH). To do all this, complete the following steps:\n",
    "\n",
    "1. Create a variable named `monthly_income`, and set its value to `12000`.\n",
    "\n",
    "2. Use the Requests library to get the current price (in US dollars) of Bitcoin (BTC) and Ethereum (ETH) by using the API endpoints that the starter code supplies.\n",
    "\n",
    "3. Navigate the JSON response object to access the current price of each coin, and store each in a variable.\n",
    "\n",
    "    > **Hint** Note the specific identifier for each cryptocurrency in the API JSON response. The Bitcoin identifier is `1`, and the Ethereum identifier is `1027`.\n",
    "\n",
    "4. Calculate the value, in US dollars, of the current amount of each cryptocurrency and of the entire cryptocurrency wallet.\n",
    "\n"
   ]
  },
  {
   "cell_type": "code",
   "execution_count": 3,
   "metadata": {},
   "outputs": [],
   "source": [
    "# The current number of coins for each cryptocurrency asset held in the portfolio.\n",
    "btc_coins = 1.2\n",
    "eth_coins = 5.3"
   ]
  },
  {
   "cell_type": "markdown",
   "metadata": {},
   "source": [
    "#### Step 1: Create a variable named `monthly_income`, and set its value to `12000`."
   ]
  },
  {
   "cell_type": "code",
   "execution_count": 4,
   "metadata": {},
   "outputs": [],
   "source": [
    "# The monthly amount for the member's household income\n",
    "monthly_income = 12000"
   ]
  },
  {
   "cell_type": "markdown",
   "metadata": {},
   "source": [
    "#### Review the endpoint URLs for the API calls to Free Crypto API in order to get the current pricing information for both BTC and ETH."
   ]
  },
  {
   "cell_type": "code",
   "execution_count": 5,
   "metadata": {},
   "outputs": [],
   "source": [
    "# The Free Crypto API Call endpoint URLs for the held cryptocurrency assets\n",
    "btc_url = \"https://api.alternative.me/v2/ticker/Bitcoin/?convert=USD\"\n",
    "eth_url = \"https://api.alternative.me/v2/ticker/Ethereum/?convert=USD\""
   ]
  },
  {
   "cell_type": "markdown",
   "metadata": {},
   "source": [
    "#### Step 2. Use the Requests library to get the current price (in US dollars) of Bitcoin (BTC) and Ethereum (ETH) by using the API endpoints that the starter code supplied."
   ]
  },
  {
   "cell_type": "code",
   "execution_count": 6,
   "metadata": {},
   "outputs": [
    {
     "name": "stdout",
     "output_type": "stream",
     "text": [
      "{\n",
      "    \"data\": {\n",
      "        \"1\": {\n",
      "            \"circulating_supply\": 18616606,\n",
      "            \"id\": 1,\n",
      "            \"last_updated\": 1612217057,\n",
      "            \"max_supply\": 21000000,\n",
      "            \"name\": \"Bitcoin\",\n",
      "            \"quotes\": {\n",
      "                \"USD\": {\n",
      "                    \"market_cap\": 623200092623,\n",
      "                    \"percent_change_1h\": -0.397127126288763,\n",
      "                    \"percent_change_24h\": 2.62521655761197,\n",
      "                    \"percent_change_7d\": 3.72434520507255,\n",
      "                    \"percentage_change_1h\": -0.397127126288763,\n",
      "                    \"percentage_change_24h\": 2.62521655761197,\n",
      "                    \"percentage_change_7d\": 3.72434520507255,\n",
      "                    \"price\": 33475.0,\n",
      "                    \"volume_24h\": 49305857469\n",
      "                }\n",
      "            },\n",
      "            \"rank\": 1,\n",
      "            \"symbol\": \"BTC\",\n",
      "            \"total_supply\": 18616606,\n",
      "            \"website_slug\": \"bitcoin\"\n",
      "        }\n",
      "    },\n",
      "    \"metadata\": {\n",
      "        \"error\": null,\n",
      "        \"num_cryptocurrencies\": 1371,\n",
      "        \"timestamp\": 1612217057\n",
      "    }\n",
      "}\n"
     ]
    }
   ],
   "source": [
    "# Using the Python requests library, make an API call to access the current price of BTC\n",
    "btc_response = requests.get(btc_url).json()\n",
    "\n",
    "# Use the json.dumps function to review the response data from the API call\n",
    "print(json.dumps(btc_response, indent=4, sort_keys=True))"
   ]
  },
  {
   "cell_type": "code",
   "execution_count": 7,
   "metadata": {},
   "outputs": [
    {
     "name": "stdout",
     "output_type": "stream",
     "text": [
      "{\n",
      "    \"data\": {\n",
      "        \"1027\": {\n",
      "            \"circulating_supply\": 114496787,\n",
      "            \"id\": 1027,\n",
      "            \"last_updated\": 1612217290,\n",
      "            \"max_supply\": 0,\n",
      "            \"name\": \"Ethereum\",\n",
      "            \"quotes\": {\n",
      "                \"USD\": {\n",
      "                    \"market_cap\": 153968696028,\n",
      "                    \"percent_change_1h\": 1.09191208492865,\n",
      "                    \"percent_change_24h\": 3.43383744744028,\n",
      "                    \"percent_change_7d\": -3.5369746513004,\n",
      "                    \"percentage_change_1h\": 1.09191208492865,\n",
      "                    \"percentage_change_24h\": 3.43383744744028,\n",
      "                    \"percentage_change_7d\": -3.5369746513004,\n",
      "                    \"price\": 1343.29,\n",
      "                    \"volume_24h\": 27297532167\n",
      "                }\n",
      "            },\n",
      "            \"rank\": 2,\n",
      "            \"symbol\": \"ETH\",\n",
      "            \"total_supply\": 114496787,\n",
      "            \"website_slug\": \"ethereum\"\n",
      "        }\n",
      "    },\n",
      "    \"metadata\": {\n",
      "        \"error\": null,\n",
      "        \"num_cryptocurrencies\": 1371,\n",
      "        \"timestamp\": 1612217290\n",
      "    }\n",
      "}\n"
     ]
    }
   ],
   "source": [
    "# Using the Python requests library, make an API call to access the current price ETH\n",
    "eth_response = requests.get(eth_url).json()\n",
    "\n",
    "# Use the json.dumps function to review the response data from the API call\n",
    "print(json.dumps(eth_response, indent=4, sort_keys=True))"
   ]
  },
  {
   "cell_type": "markdown",
   "metadata": {},
   "source": [
    "#### Step 3: Navigate the JSON response object to access the current price of each coin, and store each in a variable."
   ]
  },
  {
   "cell_type": "code",
   "execution_count": 8,
   "metadata": {},
   "outputs": [
    {
     "name": "stdout",
     "output_type": "stream",
     "text": [
      "The current price of BTC is $33475.00\n"
     ]
    }
   ],
   "source": [
    "# Navigate the BTC response object to access the current price of BTC\n",
    "btc_price = btc_response[\"data\"][\"1\"][\"quotes\"][\"USD\"][\"price\"]\n",
    "\n",
    "# Print the current price of BTC\n",
    "print(f\"The current price of BTC is ${btc_price:0.2f}\")"
   ]
  },
  {
   "cell_type": "code",
   "execution_count": 9,
   "metadata": {},
   "outputs": [
    {
     "name": "stdout",
     "output_type": "stream",
     "text": [
      "The current price of ETC is $1343.29\n"
     ]
    }
   ],
   "source": [
    "# Navigate the BTC response object to access the current price of ETH\n",
    "eth_price = eth_response[\"data\"][\"1027\"][\"quotes\"][\"USD\"][\"price\"]\n",
    "\n",
    "# Print the current price of ETH\n",
    "print(f\"The current price of ETC is ${eth_price:0.2f}\")"
   ]
  },
  {
   "cell_type": "markdown",
   "metadata": {},
   "source": [
    "### Step 4: Calculate the value, in US dollars, of the current amount of each cryptocurrency and of the entire cryptocurrency wallet."
   ]
  },
  {
   "cell_type": "code",
   "execution_count": 10,
   "metadata": {},
   "outputs": [
    {
     "name": "stdout",
     "output_type": "stream",
     "text": [
      "The current value of your 1.2 BTC is $40170.00\n"
     ]
    }
   ],
   "source": [
    "# Compute the current value of the BTC holding \n",
    "btc_value = btc_coins * btc_price\n",
    "\n",
    "# Print current value of your holding in BTC\n",
    "print(f\"The current value of your {btc_coins} BTC is ${btc_value:0.2f}\")"
   ]
  },
  {
   "cell_type": "code",
   "execution_count": 11,
   "metadata": {},
   "outputs": [
    {
     "name": "stdout",
     "output_type": "stream",
     "text": [
      "The current value of your 5.3 BTC is $7119.44\n"
     ]
    }
   ],
   "source": [
    "# Compute the current value of the ETH holding \n",
    "eth_value = eth_coins * eth_price\n",
    "\n",
    "# Print current value of your holding in ETH\n",
    "print(f\"The current value of your {eth_coins} BTC is ${eth_value:0.2f}\")"
   ]
  },
  {
   "cell_type": "code",
   "execution_count": 12,
   "metadata": {},
   "outputs": [
    {
     "name": "stdout",
     "output_type": "stream",
     "text": [
      "The total value of your cryptocurrency wallet is $47289.44!\n"
     ]
    }
   ],
   "source": [
    "# Compute the total value of the cryptocurrency wallet\n",
    "# Add the value of the BTC holding to the value of the ETH holding\n",
    "total_crypto_wallet = btc_value + eth_value\n",
    "\n",
    "# Print current cryptocurrency wallet balance\n",
    "print(f\"The total value of your cryptocurrency wallet is ${total_crypto_wallet:0.2f}!\")"
   ]
  },
  {
   "cell_type": "markdown",
   "metadata": {},
   "source": [
    "### Evaluate the Stock and Bond Holdings by Using the Alpaca SDK\n",
    "\n",
    "In this section, you’ll determine the current value of a member’s stock and bond holdings. You’ll make an API call to Alpaca via the Alpaca SDK to get the current closing prices of the SPDR S&P 500 ETF Trust (ticker: SPY) and of the iShares Core US Aggregate Bond ETF (ticker: AGG). For the prototype, assume that the member holds 110 shares of SPY, which represents the stock portion of their portfolio, and 200 shares of AGG, which represents the bond portion. To do all this, complete the following steps:\n",
    "\n",
    "1. In the `Starter_Code` folder, create an environment file (`.env`) to store the values of your Alpaca API key and Alpaca secret key.\n",
    "\n",
    "2. Set the variables for the Alpaca API and secret keys. Using the Alpaca SDK, create the Alpaca `tradeapi.REST` object. In this object, include the parameters for the Alpaca API key, the secret key, and the version number.\n",
    "\n",
    "3. Set the following parameters for the Alpaca API call:\n",
    "\n",
    "    - `tickers`: Use the tickers for the member’s stock and bond holdings.\n",
    "\n",
    "    - `timeframe`: Use a time frame of one day.\n",
    "\n",
    "    - `start_date` and `end_date`: Use the same date for these parameters, and format them with the date of the previous weekday (or `2020-08-07`). This is because you want the one closing price for the most-recent trading day.\n",
    "\n",
    "4. Get the current closing prices for `SPY` and `AGG` by using the Alpaca `get_barset` function. Format the response as a Pandas DataFrame by including the `df` property at the end of the `get_barset` function.\n",
    "\n",
    "5. Navigating the Alpaca response DataFrame, select the `SPY` and `AGG` closing prices, and store them as variables.\n",
    "\n",
    "6. Calculate the value, in US dollars, of the current amount of shares in each of the stock and bond portions of the portfolio, and print the results.\n"
   ]
  },
  {
   "cell_type": "markdown",
   "metadata": {},
   "source": [
    "#### Review the total number of shares held in both (SPY) and (AGG)."
   ]
  },
  {
   "cell_type": "code",
   "execution_count": 13,
   "metadata": {},
   "outputs": [],
   "source": [
    "# Current amount of shares held in both the stock (SPY) and bond (AGG) portion of the portfolio.\n",
    "spy_shares = 110\n",
    "agg_shares = 200"
   ]
  },
  {
   "cell_type": "markdown",
   "metadata": {},
   "source": [
    "#### Step 1: In the `Starter_Code` folder, create an environment file (`.env`) to store the values of your Alpaca API key and Alpaca secret key."
   ]
  },
  {
   "cell_type": "markdown",
   "metadata": {},
   "source": [
    "#### Step 2: Set the variables for the Alpaca API and secret keys. Using the Alpaca SDK, create the Alpaca `tradeapi.REST` object. In this object, include the parameters for the Alpaca API key, the secret key, and the version number."
   ]
  },
  {
   "cell_type": "code",
   "execution_count": 14,
   "metadata": {},
   "outputs": [],
   "source": [
    "# Set the variables for the Alpaca API and secret keys\n",
    "alpaca_api_key = os.getenv(\"ALPACA_API_KEY\")\n",
    "alpaca_secret_key = os.getenv(\"ALPACA_SECRET_KEY\")\n",
    "\n",
    "# Create the Alpaca tradeapi.REST object\n",
    "alpaca = tradeapi.REST(\n",
    "    alpaca_api_key,\n",
    "    alpaca_secret_key,\n",
    "    api_version=\"v2\")"
   ]
  },
  {
   "cell_type": "markdown",
   "metadata": {},
   "source": [
    "#### Step 3: Set the following parameters for the Alpaca API call:\n",
    "\n",
    "- `tickers`: Use the tickers for the member’s stock and bond holdings.\n",
    "\n",
    "- `timeframe`: Use a time frame of one day.\n",
    "\n",
    "- `start_date` and `end_date`: Use the same date for these parameters, and format them with the date of the previous weekday (or `2020-08-07`). This is because you want the one closing price for the most-recent trading day.\n"
   ]
  },
  {
   "cell_type": "code",
   "execution_count": 44,
   "metadata": {},
   "outputs": [],
   "source": [
    "# Set the tickers for both the bond and stock portion of the portfolio\n",
    "tickers = [\"AGG\",\"SPY\"]\n",
    "\n",
    "# Set timeframe to 1D \n",
    "timeframe = \"1D\"\n",
    "\n",
    "# Format current date as ISO format\n",
    "start_date = pd.Timestamp(\"2021-01-29\", tz=\"America/Los_Angeles\").isoformat()\n",
    "end_date = pd.Timestamp(\"2021-01-29\", tz=\"America/Los_Angeles\").isoformat()"
   ]
  },
  {
   "cell_type": "markdown",
   "metadata": {},
   "source": [
    "#### Step 4: Get the current closing prices for `SPY` and `AGG` by using the Alpaca `get_barset` function. Format the response as a Pandas DataFrame by including the `df` property at the end of the `get_barset` function."
   ]
  },
  {
   "cell_type": "code",
   "execution_count": 45,
   "metadata": {},
   "outputs": [
    {
     "data": {
      "text/html": [
       "<div>\n",
       "<style scoped>\n",
       "    .dataframe tbody tr th:only-of-type {\n",
       "        vertical-align: middle;\n",
       "    }\n",
       "\n",
       "    .dataframe tbody tr th {\n",
       "        vertical-align: top;\n",
       "    }\n",
       "\n",
       "    .dataframe thead tr th {\n",
       "        text-align: left;\n",
       "    }\n",
       "\n",
       "    .dataframe thead tr:last-of-type th {\n",
       "        text-align: right;\n",
       "    }\n",
       "</style>\n",
       "<table border=\"1\" class=\"dataframe\">\n",
       "  <thead>\n",
       "    <tr>\n",
       "      <th></th>\n",
       "      <th colspan=\"5\" halign=\"left\">AGG</th>\n",
       "      <th colspan=\"5\" halign=\"left\">SPY</th>\n",
       "    </tr>\n",
       "    <tr>\n",
       "      <th></th>\n",
       "      <th>open</th>\n",
       "      <th>high</th>\n",
       "      <th>low</th>\n",
       "      <th>close</th>\n",
       "      <th>volume</th>\n",
       "      <th>open</th>\n",
       "      <th>high</th>\n",
       "      <th>low</th>\n",
       "      <th>close</th>\n",
       "      <th>volume</th>\n",
       "    </tr>\n",
       "    <tr>\n",
       "      <th>time</th>\n",
       "      <th></th>\n",
       "      <th></th>\n",
       "      <th></th>\n",
       "      <th></th>\n",
       "      <th></th>\n",
       "      <th></th>\n",
       "      <th></th>\n",
       "      <th></th>\n",
       "      <th></th>\n",
       "      <th></th>\n",
       "    </tr>\n",
       "  </thead>\n",
       "  <tbody>\n",
       "    <tr>\n",
       "      <th>2021-01-29 00:00:00-05:00</th>\n",
       "      <td>117.1563</td>\n",
       "      <td>117.4</td>\n",
       "      <td>116.5625</td>\n",
       "      <td>117.32</td>\n",
       "      <td>7119889</td>\n",
       "      <td>375.63</td>\n",
       "      <td>376.67</td>\n",
       "      <td>368.27</td>\n",
       "      <td>370.19</td>\n",
       "      <td>106397082</td>\n",
       "    </tr>\n",
       "  </tbody>\n",
       "</table>\n",
       "</div>"
      ],
      "text/plain": [
       "                                AGG                                       SPY  \\\n",
       "                               open   high       low   close   volume    open   \n",
       "time                                                                            \n",
       "2021-01-29 00:00:00-05:00  117.1563  117.4  116.5625  117.32  7119889  375.63   \n",
       "\n",
       "                                                              \n",
       "                             high     low   close     volume  \n",
       "time                                                          \n",
       "2021-01-29 00:00:00-05:00  376.67  368.27  370.19  106397082  "
      ]
     },
     "execution_count": 45,
     "metadata": {},
     "output_type": "execute_result"
    }
   ],
   "source": [
    "# Use the Alpaca get_barset function to get current closing prices the portfolio\n",
    "portfolio_prices_df = alpaca.get_barset(\n",
    "    tickers,\n",
    "    timeframe,\n",
    "    start = start_date,\n",
    "    end = end_date\n",
    ").df\n",
    "\n",
    "# Review the first 5 rows of the Alpaca DataFrame\n",
    "portfolio_prices_df.head()"
   ]
  },
  {
   "cell_type": "markdown",
   "metadata": {},
   "source": [
    "#### Step 5: Navigating the Alpaca response DataFrame, select the `SPY` and `AGG` closing prices, and store them as variables."
   ]
  },
  {
   "cell_type": "code",
   "execution_count": 17,
   "metadata": {},
   "outputs": [
    {
     "name": "stdout",
     "output_type": "stream",
     "text": [
      "AGG Closing Price: $117.32\n"
     ]
    }
   ],
   "source": [
    "# Access the closing price for AGG from the Alpaca DataFrame\n",
    "# Converting the value to a floating point number\n",
    "agg_close_price = float(portfolio_prices_df[\"AGG\"]['close'])\n",
    "\n",
    "# Print the AGG closing price\n",
    "print(f\"{tickers[0]} Closing Price: ${agg_close_price}\")"
   ]
  },
  {
   "cell_type": "code",
   "execution_count": 18,
   "metadata": {},
   "outputs": [
    {
     "name": "stdout",
     "output_type": "stream",
     "text": [
      "SPY Closing Price: $370.19\n"
     ]
    }
   ],
   "source": [
    "# Access the closing price for SPY from the Alpaca DataFrame\n",
    "# Converting the value to a floating point number\n",
    "spy_close_price = float(portfolio_prices_df[\"SPY\"]['close'])\n",
    "\n",
    "# Print the SPY closing price\n",
    "print(f\"{tickers[1]} Closing Price: ${spy_close_price}\")"
   ]
  },
  {
   "cell_type": "markdown",
   "metadata": {},
   "source": [
    "#### Step 6: Calculate the value, in US dollars, of the current amount of shares in each of the stock and bond portions of the portfolio, and print the results."
   ]
  },
  {
   "cell_type": "code",
   "execution_count": 19,
   "metadata": {},
   "outputs": [
    {
     "name": "stdout",
     "output_type": "stream",
     "text": [
      "The current value of your 200 shares of AGG is $23464.00\n"
     ]
    }
   ],
   "source": [
    "# Calculate the current value of the bond portion of the portfolio\n",
    "agg_value = agg_shares * agg_close_price\n",
    "\n",
    "# Print the current value of the bond portfolio\n",
    "print(f\"The current value of your {agg_shares} shares of AGG is ${agg_value:0.2f}\")"
   ]
  },
  {
   "cell_type": "code",
   "execution_count": 20,
   "metadata": {},
   "outputs": [
    {
     "name": "stdout",
     "output_type": "stream",
     "text": [
      "The current value of your 110 shares of SPY is $40720.90\n"
     ]
    }
   ],
   "source": [
    "# Calculate the current value of the stock portion of the portfolio\n",
    "spy_value = spy_shares * spy_close_price\n",
    "\n",
    "# Print the current value of the stock portfolio\n",
    "print(f\"The current value of your {spy_shares} shares of SPY is ${spy_value:0.2f}\")"
   ]
  },
  {
   "cell_type": "code",
   "execution_count": 21,
   "metadata": {},
   "outputs": [
    {
     "name": "stdout",
     "output_type": "stream",
     "text": [
      "The total value of your stock and bond portfolio is $64184.90!\n"
     ]
    }
   ],
   "source": [
    "# Calculate the total value of the stock and bond portion of the portfolio\n",
    "total_stocks_bonds = agg_value + spy_value\n",
    "\n",
    "# Print the current balance of the stock and bond portion of the portfolio\n",
    "print(f\"The total value of your stock and bond portfolio is ${total_stocks_bonds:0.2f}!\")"
   ]
  },
  {
   "cell_type": "code",
   "execution_count": 46,
   "metadata": {},
   "outputs": [
    {
     "name": "stdout",
     "output_type": "stream",
     "text": [
      "The total value of your savings portfolio is $111474.34!\n"
     ]
    }
   ],
   "source": [
    "# Calculate the total value of the member's entire savings portfolio\n",
    "total_portfolio = total_crypto_wallet + total_stocks_bonds\n",
    "\n",
    "# Print total portfolio balance\n",
    "print(f\"The total value of your savings portfolio is ${total_portfolio:0.2f}!\")"
   ]
  },
  {
   "cell_type": "markdown",
   "metadata": {},
   "source": [
    "### Evaluate the Emergency Fund\n",
    "\n",
    "In this section, you’ll use the valuations for the cryptocurrency wallet and for the stock and bond portions of the portfolio to determine if the credit union member has enough savings to build an emergency fund into their financial plan. To do this, complete the following steps:\n",
    "\n",
    "1. Create a Python list named `savings_data` that has two elements. The first element contains the total value of the cryptocurrency wallet. The second element contains the total value of the stock and bond portions of the portfolio.\n",
    "\n",
    "2. Use the `savings_data` list to create a Pandas DataFrame named `savings_df`, and then display this DataFrame. The function to create the DataFrame should take the following three parameters:\n",
    "\n",
    "    - `savings_data`: Use the list that you just created.\n",
    "\n",
    "    - `columns`: Set this parameter equal to a Python list with a single value called `amount`.\n",
    "\n",
    "    - `index`: Set this parameter equal to a Python list with the values of `crypto` and `stock/bond`.\n",
    "\n",
    "3. Use the `savings_df` DataFrame to plot a pie chart that visualizes the composition of the member’s portfolio. The y-axis of the pie chart uses `amount`. Be sure to add a title.\n",
    "\n",
    "4. Using Python, determine if the current portfolio has enough to create an emergency fund as part of the member’s financial plan. Ideally, an emergency fund should equal to three times the member’s monthly income. To do this, implement the following steps:\n",
    "\n",
    "    1. Create a variable named `emergency_fund_value`, and set it equal to three times the value of the member’s `monthly_income` of $12000. (You set this earlier in Part 1).\n",
    "\n",
    "    2. Create a series of three if statements to determine if the member’s total portfolio is large enough to fund the emergency portfolio:\n",
    "\n",
    "        1. If the total portfolio value is greater than the emergency fund value, display a message congratulating the member for having enough money in this fund.\n",
    "\n",
    "        2. Else if the total portfolio value is equal to the emergency fund value, display a message congratulating the member on reaching this important financial goal.\n",
    "\n",
    "        3. Else the total portfolio is less than the emergency fund value, so display a message showing how many dollars away the member is from reaching the goal. (Subtract the total portfolio value from the emergency fund value.)\n"
   ]
  },
  {
   "cell_type": "markdown",
   "metadata": {},
   "source": [
    "#### Step 1: Create a Python list named `savings_data` that has two elements. The first element contains the total value of the cryptocurrency wallet. The second element contains the total value of the stock and bond portions of the portfolio."
   ]
  },
  {
   "cell_type": "code",
   "execution_count": 23,
   "metadata": {},
   "outputs": [
    {
     "name": "stdout",
     "output_type": "stream",
     "text": [
      "[47289.437, 64184.9]\n"
     ]
    }
   ],
   "source": [
    "# Consolidate financial assets data into a Python list\n",
    "savings_data = [total_crypto_wallet, total_stocks_bonds]\n",
    "\n",
    "# Review the Python list savings_data\n",
    "print(savings_data) "
   ]
  },
  {
   "cell_type": "markdown",
   "metadata": {},
   "source": [
    "#### Step 2: Use the `savings_data` list to create a Pandas DataFrame named `savings_df`, and then display this DataFrame. The function to create the DataFrame should take the following three parameters:\n",
    "\n",
    "- `savings_data`: Use the list that you just created.\n",
    "\n",
    "- `columns`: Set this parameter equal to a Python list with a single value called `amount`.\n",
    "\n",
    "- `index`: Set this parameter equal to a Python list with the values of `crypto` and `stock/bond`.\n"
   ]
  },
  {
   "cell_type": "code",
   "execution_count": 24,
   "metadata": {},
   "outputs": [
    {
     "name": "stdout",
     "output_type": "stream",
     "text": [
      "                 amount\n",
      "crypto        47289.437\n",
      "stocks/bonds  64184.900\n"
     ]
    }
   ],
   "source": [
    "# Create a Pandas DataFrame called savings_df \n",
    "savings_df = pd.DataFrame(savings_data, columns=[\"amount\"], index=[\"crypto\", \"stocks/bonds\"])\n",
    "\n",
    "# Display the savings_df DataFrame\n",
    "print(savings_df)"
   ]
  },
  {
   "cell_type": "markdown",
   "metadata": {},
   "source": [
    "#### Step 3: Use the `savings_df` DataFrame to plot a pie chart that visualizes the composition of the member’s portfolio. The y-axis of the pie chart uses `amount`. Be sure to add a title."
   ]
  },
  {
   "cell_type": "code",
   "execution_count": 25,
   "metadata": {},
   "outputs": [
    {
     "data": {
      "text/plain": [
       "<AxesSubplot:title={'center':'Portfolio Composition'}, ylabel='amount'>"
      ]
     },
     "execution_count": 25,
     "metadata": {},
     "output_type": "execute_result"
    },
    {
     "data": {
      "image/png": "[encoded data removed]",
      "text/plain": [
       "<Figure size 432x288 with 1 Axes>"
      ]
     },
     "metadata": {},
     "output_type": "display_data"
    }
   ],
   "source": [
    "# Plot the total value of the member's portfolio (crypto and stock/bond) in a pie chart\n",
    "savings_df.plot.pie(y='amount', title='Portfolio Composition')"
   ]
  },
  {
   "cell_type": "markdown",
   "metadata": {},
   "source": [
    "#### Step 4: Using Python, determine if the current portfolio has enough to create an emergency fund as part of the member’s financial plan. Ideally, an emergency fund should equal to three times the member’s monthly income. To do this, implement the following steps:\n",
    "\n",
    "Step 1. Create a variable named `emergency_fund_value`, and set it equal to three times the value of the member’s `monthly_income` of 12000. (You set this earlier in Part 1).\n",
    "\n",
    "Step 2. Create a series of three if statements to determine if the member’s total portfolio is large enough to fund the emergency portfolio:\n",
    "\n",
    "* If the total portfolio value is greater than the emergency fund value, display a message congratulating the member for having enough money in this fund.\n",
    "\n",
    "* Else if the total portfolio value is equal to the emergency fund value, display a message congratulating the member on reaching this important financial goal.\n",
    "\n",
    "* Else the total portfolio is less than the emergency fund value, so display a message showing how many dollars away the member is from reaching the goal. (Subtract the total portfolio value from the emergency fund value.)\n"
   ]
  },
  {
   "cell_type": "markdown",
   "metadata": {},
   "source": [
    "##### Step 4-1: Create a variable named `emergency_fund_value`, and set it equal to three times the value of the member’s `monthly_income` of 12000. (You set this earlier in Part 1)."
   ]
  },
  {
   "cell_type": "code",
   "execution_count": 26,
   "metadata": {},
   "outputs": [],
   "source": [
    "# Create a variable named emergency_fund_value\n",
    "emergency_fund_value = monthly_income * 3"
   ]
  },
  {
   "cell_type": "markdown",
   "metadata": {},
   "source": [
    "##### Step 4-2: Create a series of three if statements to determine if the member’s total portfolio is large enough to fund the emergency portfolio:\n",
    "\n",
    "* If the total portfolio value is greater than the emergency fund value, display a message congratulating the member for having enough money in this fund.\n",
    "\n",
    "* Else if the total portfolio value is equal to the emergency fund value, display a message congratulating the member on reaching this important financial goal.\n",
    "\n",
    "* Else the total portfolio is less than the emergency fund value, so display a message showing how many dollars away the member is from reaching the goal. (Subtract the total portfolio value from the emergency fund value.)"
   ]
  },
  {
   "cell_type": "code",
   "execution_count": 47,
   "metadata": {},
   "outputs": [
    {
     "name": "stdout",
     "output_type": "stream",
     "text": [
      "Congratulations! You have enough money in your emergency fund!\n"
     ]
    }
   ],
   "source": [
    "# Calculate dollars away from reaching their goal\n",
    "dollars_away = int(total_portfolio - emergency_fund_value)\n",
    "\n",
    "# Messages\n",
    "message = [\n",
    "    f\"Congratulations! You have enough money in your emergency fund!\",\n",
    "    f\"Congratulations! You have reached your financial goal in your emergency fund!\",\n",
    "    f\"You are ${dollars_away:0.2f} short from reaching your emergency fund.\"\n",
    "]\n",
    "\n",
    "# Evaluate the possibility of creating an emergency fund with 3 conditions:\n",
    "if total_portfolio > emergency_fund_value:\n",
    "    print(message[0])\n",
    "elif total_portfolio == emergency_fund_value:\n",
    "    print(message[1])\n",
    "else:\n",
    "    print(message[2])"
   ]
  },
  {
   "cell_type": "markdown",
   "metadata": {},
   "source": [
    "## Part 2: Create a Financial Planner for Retirement"
   ]
  },
  {
   "cell_type": "markdown",
   "metadata": {},
   "source": [
    "### Create the Monte Carlo Simulation\n",
    "\n",
    "In this section, you’ll use the MCForecastTools library to create a Monte Carlo simulation for the member’s savings portfolio. To do this, complete the following steps:\n",
    "\n",
    "1. Make an API call via the Alpaca SDK to get 10 years of historical closing prices for a traditional 60/40 portfolio split: 60% stocks (SPY) and 40% bonds (AGG).\n",
    "\n",
    "2. Run a Monte Carlo simulation of 500 samples and 30 years for the 60/40 portfolio, and then plot the results.The following image shows the overlay line plot resulting from a simulation with these characteristics. However, because a random number generator is used to run each live Monte Carlo simulation, your image will differ slightly from this exact image:\n",
    "\n",
    "![A screenshot depicts the resulting plot.](Images/5-4-monte-carlo-line-plot.png)\n",
    "\n",
    "3. Plot the probability distribution of the Monte Carlo simulation. Plot the probability distribution of the Monte Carlo simulation. The following image shows the histogram plot resulting from a simulation with these characteristics. However, because a random number generator is used to run each live Monte Carlo simulation, your image will differ slightly from this exact image:\n",
    "\n",
    "![A screenshot depicts the histogram plot.](Images/5-4-monte-carlo-histogram.png)\n",
    "\n",
    "4. Generate the summary statistics for the Monte Carlo simulation.\n",
    "\n"
   ]
  },
  {
   "cell_type": "markdown",
   "metadata": {},
   "source": [
    "#### Step 1: Make an API call via the Alpaca SDK to get 10 years of historical closing prices for a traditional 60/40 portfolio split: 60% stocks (SPY) and 40% bonds (AGG)."
   ]
  },
  {
   "cell_type": "code",
   "execution_count": 48,
   "metadata": {},
   "outputs": [],
   "source": [
    "# Set start and end dates of 10 years back from your current date\n",
    "current_date = str(datetime.datetime.now()).split()[0]\n",
    "ten_years_ago = str(datetime.datetime.now() - datetime.timedelta(days=10*365)).split()[0]\n",
    "\n",
    "start_date = pd.Timestamp(ten_years_ago, tz=\"America/Los_Angeles\").isoformat()\n",
    "end_date = pd.Timestamp(current_date, tz=\"America/Los_Angeles\").isoformat()"
   ]
  },
  {
   "cell_type": "code",
   "execution_count": 49,
   "metadata": {},
   "outputs": [
    {
     "data": {
      "text/html": [
       "<div>\n",
       "<style scoped>\n",
       "    .dataframe tbody tr th:only-of-type {\n",
       "        vertical-align: middle;\n",
       "    }\n",
       "\n",
       "    .dataframe tbody tr th {\n",
       "        vertical-align: top;\n",
       "    }\n",
       "\n",
       "    .dataframe thead tr th {\n",
       "        text-align: left;\n",
       "    }\n",
       "\n",
       "    .dataframe thead tr:last-of-type th {\n",
       "        text-align: right;\n",
       "    }\n",
       "</style>\n",
       "<table border=\"1\" class=\"dataframe\">\n",
       "  <thead>\n",
       "    <tr>\n",
       "      <th></th>\n",
       "      <th colspan=\"5\" halign=\"left\">AGG</th>\n",
       "      <th colspan=\"5\" halign=\"left\">SPY</th>\n",
       "    </tr>\n",
       "    <tr>\n",
       "      <th></th>\n",
       "      <th>open</th>\n",
       "      <th>high</th>\n",
       "      <th>low</th>\n",
       "      <th>close</th>\n",
       "      <th>volume</th>\n",
       "      <th>open</th>\n",
       "      <th>high</th>\n",
       "      <th>low</th>\n",
       "      <th>close</th>\n",
       "      <th>volume</th>\n",
       "    </tr>\n",
       "    <tr>\n",
       "      <th>time</th>\n",
       "      <th></th>\n",
       "      <th></th>\n",
       "      <th></th>\n",
       "      <th></th>\n",
       "      <th></th>\n",
       "      <th></th>\n",
       "      <th></th>\n",
       "      <th></th>\n",
       "      <th></th>\n",
       "      <th></th>\n",
       "    </tr>\n",
       "  </thead>\n",
       "  <tbody>\n",
       "    <tr>\n",
       "      <th>2011-02-04 00:00:00-05:00</th>\n",
       "      <td>104.51</td>\n",
       "      <td>104.630</td>\n",
       "      <td>104.2000</td>\n",
       "      <td>104.25</td>\n",
       "      <td>1090269</td>\n",
       "      <td>130.83</td>\n",
       "      <td>131.20</td>\n",
       "      <td>130.23</td>\n",
       "      <td>131.15</td>\n",
       "      <td>103598208</td>\n",
       "    </tr>\n",
       "    <tr>\n",
       "      <th>2011-02-07 00:00:00-05:00</th>\n",
       "      <td>104.17</td>\n",
       "      <td>104.331</td>\n",
       "      <td>104.1100</td>\n",
       "      <td>104.29</td>\n",
       "      <td>569006</td>\n",
       "      <td>131.44</td>\n",
       "      <td>132.40</td>\n",
       "      <td>131.43</td>\n",
       "      <td>131.98</td>\n",
       "      <td>90480160</td>\n",
       "    </tr>\n",
       "    <tr>\n",
       "      <th>2011-02-08 00:00:00-05:00</th>\n",
       "      <td>104.31</td>\n",
       "      <td>104.320</td>\n",
       "      <td>103.9100</td>\n",
       "      <td>103.99</td>\n",
       "      <td>692756</td>\n",
       "      <td>132.10</td>\n",
       "      <td>132.64</td>\n",
       "      <td>131.73</td>\n",
       "      <td>132.59</td>\n",
       "      <td>85774423</td>\n",
       "    </tr>\n",
       "    <tr>\n",
       "      <th>2011-02-09 00:00:00-05:00</th>\n",
       "      <td>104.04</td>\n",
       "      <td>104.320</td>\n",
       "      <td>103.9301</td>\n",
       "      <td>104.19</td>\n",
       "      <td>484644</td>\n",
       "      <td>132.21</td>\n",
       "      <td>132.63</td>\n",
       "      <td>131.61</td>\n",
       "      <td>132.27</td>\n",
       "      <td>121763230</td>\n",
       "    </tr>\n",
       "    <tr>\n",
       "      <th>2011-02-10 00:00:00-05:00</th>\n",
       "      <td>104.11</td>\n",
       "      <td>104.170</td>\n",
       "      <td>103.8500</td>\n",
       "      <td>103.89</td>\n",
       "      <td>485735</td>\n",
       "      <td>131.60</td>\n",
       "      <td>132.47</td>\n",
       "      <td>131.30</td>\n",
       "      <td>132.33</td>\n",
       "      <td>140547328</td>\n",
       "    </tr>\n",
       "  </tbody>\n",
       "</table>\n",
       "</div>"
      ],
      "text/plain": [
       "                              AGG                                         SPY  \\\n",
       "                             open     high       low   close   volume    open   \n",
       "time                                                                            \n",
       "2011-02-04 00:00:00-05:00  104.51  104.630  104.2000  104.25  1090269  130.83   \n",
       "2011-02-07 00:00:00-05:00  104.17  104.331  104.1100  104.29   569006  131.44   \n",
       "2011-02-08 00:00:00-05:00  104.31  104.320  103.9100  103.99   692756  132.10   \n",
       "2011-02-09 00:00:00-05:00  104.04  104.320  103.9301  104.19   484644  132.21   \n",
       "2011-02-10 00:00:00-05:00  104.11  104.170  103.8500  103.89   485735  131.60   \n",
       "\n",
       "                                                              \n",
       "                             high     low   close     volume  \n",
       "time                                                          \n",
       "2011-02-04 00:00:00-05:00  131.20  130.23  131.15  103598208  \n",
       "2011-02-07 00:00:00-05:00  132.40  131.43  131.98   90480160  \n",
       "2011-02-08 00:00:00-05:00  132.64  131.73  132.59   85774423  \n",
       "2011-02-09 00:00:00-05:00  132.63  131.61  132.27  121763230  \n",
       "2011-02-10 00:00:00-05:00  132.47  131.30  132.33  140547328  "
      ]
     },
     "execution_count": 49,
     "metadata": {},
     "output_type": "execute_result"
    }
   ],
   "source": [
    "# Use the Alpaca get_barset function to make the API call to get the 10 years worth of pricing data\n",
    "pricing_data = alpaca.get_barset(\n",
    "    tickers,\n",
    "    timeframe,\n",
    "    start=start_date,\n",
    "    end=end_date\n",
    ").df\n",
    "\n",
    "# Display the first five rows of the DataFrame\n",
    "pricing_data.head()"
   ]
  },
  {
   "cell_type": "markdown",
   "metadata": {},
   "source": [
    "#### Step 2: Run a Monte Carlo simulation of 500 samples and 30 years for the 60/40 portfolio, and then plot the results."
   ]
  },
  {
   "cell_type": "code",
   "execution_count": 52,
   "metadata": {},
   "outputs": [
    {
     "data": {
      "text/html": [
       "<div>\n",
       "<style scoped>\n",
       "    .dataframe tbody tr th:only-of-type {\n",
       "        vertical-align: middle;\n",
       "    }\n",
       "\n",
       "    .dataframe tbody tr th {\n",
       "        vertical-align: top;\n",
       "    }\n",
       "\n",
       "    .dataframe thead tr th {\n",
       "        text-align: left;\n",
       "    }\n",
       "\n",
       "    .dataframe thead tr:last-of-type th {\n",
       "        text-align: right;\n",
       "    }\n",
       "</style>\n",
       "<table border=\"1\" class=\"dataframe\">\n",
       "  <thead>\n",
       "    <tr>\n",
       "      <th></th>\n",
       "      <th colspan=\"6\" halign=\"left\">AGG</th>\n",
       "      <th colspan=\"6\" halign=\"left\">SPY</th>\n",
       "    </tr>\n",
       "    <tr>\n",
       "      <th></th>\n",
       "      <th>open</th>\n",
       "      <th>high</th>\n",
       "      <th>low</th>\n",
       "      <th>close</th>\n",
       "      <th>volume</th>\n",
       "      <th>daily_return</th>\n",
       "      <th>open</th>\n",
       "      <th>high</th>\n",
       "      <th>low</th>\n",
       "      <th>close</th>\n",
       "      <th>volume</th>\n",
       "      <th>daily_return</th>\n",
       "    </tr>\n",
       "    <tr>\n",
       "      <th>time</th>\n",
       "      <th></th>\n",
       "      <th></th>\n",
       "      <th></th>\n",
       "      <th></th>\n",
       "      <th></th>\n",
       "      <th></th>\n",
       "      <th></th>\n",
       "      <th></th>\n",
       "      <th></th>\n",
       "      <th></th>\n",
       "      <th></th>\n",
       "      <th></th>\n",
       "    </tr>\n",
       "  </thead>\n",
       "  <tbody>\n",
       "    <tr>\n",
       "      <th>2011-02-04 00:00:00-05:00</th>\n",
       "      <td>104.51</td>\n",
       "      <td>104.630</td>\n",
       "      <td>104.2000</td>\n",
       "      <td>104.25</td>\n",
       "      <td>1090269</td>\n",
       "      <td>NaN</td>\n",
       "      <td>130.83</td>\n",
       "      <td>131.20</td>\n",
       "      <td>130.23</td>\n",
       "      <td>131.15</td>\n",
       "      <td>103598208</td>\n",
       "      <td>NaN</td>\n",
       "    </tr>\n",
       "    <tr>\n",
       "      <th>2011-02-07 00:00:00-05:00</th>\n",
       "      <td>104.17</td>\n",
       "      <td>104.331</td>\n",
       "      <td>104.1100</td>\n",
       "      <td>104.29</td>\n",
       "      <td>569006</td>\n",
       "      <td>0.000384</td>\n",
       "      <td>131.44</td>\n",
       "      <td>132.40</td>\n",
       "      <td>131.43</td>\n",
       "      <td>131.98</td>\n",
       "      <td>90480160</td>\n",
       "      <td>0.006329</td>\n",
       "    </tr>\n",
       "    <tr>\n",
       "      <th>2011-02-08 00:00:00-05:00</th>\n",
       "      <td>104.31</td>\n",
       "      <td>104.320</td>\n",
       "      <td>103.9100</td>\n",
       "      <td>103.99</td>\n",
       "      <td>692756</td>\n",
       "      <td>-0.002877</td>\n",
       "      <td>132.10</td>\n",
       "      <td>132.64</td>\n",
       "      <td>131.73</td>\n",
       "      <td>132.59</td>\n",
       "      <td>85774423</td>\n",
       "      <td>0.004622</td>\n",
       "    </tr>\n",
       "    <tr>\n",
       "      <th>2011-02-09 00:00:00-05:00</th>\n",
       "      <td>104.04</td>\n",
       "      <td>104.320</td>\n",
       "      <td>103.9301</td>\n",
       "      <td>104.19</td>\n",
       "      <td>484644</td>\n",
       "      <td>0.001923</td>\n",
       "      <td>132.21</td>\n",
       "      <td>132.63</td>\n",
       "      <td>131.61</td>\n",
       "      <td>132.27</td>\n",
       "      <td>121763230</td>\n",
       "      <td>-0.002413</td>\n",
       "    </tr>\n",
       "    <tr>\n",
       "      <th>2011-02-10 00:00:00-05:00</th>\n",
       "      <td>104.11</td>\n",
       "      <td>104.170</td>\n",
       "      <td>103.8500</td>\n",
       "      <td>103.89</td>\n",
       "      <td>485735</td>\n",
       "      <td>-0.002879</td>\n",
       "      <td>131.60</td>\n",
       "      <td>132.47</td>\n",
       "      <td>131.30</td>\n",
       "      <td>132.33</td>\n",
       "      <td>140547328</td>\n",
       "      <td>0.000454</td>\n",
       "    </tr>\n",
       "  </tbody>\n",
       "</table>\n",
       "</div>"
      ],
      "text/plain": [
       "                              AGG                                      \\\n",
       "                             open     high       low   close   volume   \n",
       "time                                                                    \n",
       "2011-02-04 00:00:00-05:00  104.51  104.630  104.2000  104.25  1090269   \n",
       "2011-02-07 00:00:00-05:00  104.17  104.331  104.1100  104.29   569006   \n",
       "2011-02-08 00:00:00-05:00  104.31  104.320  103.9100  103.99   692756   \n",
       "2011-02-09 00:00:00-05:00  104.04  104.320  103.9301  104.19   484644   \n",
       "2011-02-10 00:00:00-05:00  104.11  104.170  103.8500  103.89   485735   \n",
       "\n",
       "                                           SPY                          \\\n",
       "                          daily_return    open    high     low   close   \n",
       "time                                                                     \n",
       "2011-02-04 00:00:00-05:00          NaN  130.83  131.20  130.23  131.15   \n",
       "2011-02-07 00:00:00-05:00     0.000384  131.44  132.40  131.43  131.98   \n",
       "2011-02-08 00:00:00-05:00    -0.002877  132.10  132.64  131.73  132.59   \n",
       "2011-02-09 00:00:00-05:00     0.001923  132.21  132.63  131.61  132.27   \n",
       "2011-02-10 00:00:00-05:00    -0.002879  131.60  132.47  131.30  132.33   \n",
       "\n",
       "                                                   \n",
       "                              volume daily_return  \n",
       "time                                               \n",
       "2011-02-04 00:00:00-05:00  103598208          NaN  \n",
       "2011-02-07 00:00:00-05:00   90480160     0.006329  \n",
       "2011-02-08 00:00:00-05:00   85774423     0.004622  \n",
       "2011-02-09 00:00:00-05:00  121763230    -0.002413  \n",
       "2011-02-10 00:00:00-05:00  140547328     0.000454  "
      ]
     },
     "execution_count": 52,
     "metadata": {},
     "output_type": "execute_result"
    }
   ],
   "source": [
    "# Configure the Monte Carlo simulation to forecast 30 years cumulative returns\n",
    "# The weights should be split 40% to AGG and 60% to SPY\n",
    "# Run 500 samples\n",
    "num_simulation = 500\n",
    "\n",
    "mc_portfolio = MCSimulation(\n",
    "    portfolio_data = pricing_data,\n",
    "    num_simulation = num_simulation,\n",
    "    num_trading_days = 252*30,\n",
    "    weights = [.40,.60]\n",
    ")\n",
    "\n",
    "# Review the simulation input data\n",
    "mc_portfolio.portfolio_data.head()"
   ]
  },
  {
   "cell_type": "code",
   "execution_count": 31,
   "metadata": {},
   "outputs": [
    {
     "name": "stdout",
     "output_type": "stream",
     "text": [
      "Running Monte Carlo simulation number 0.\n",
      "Running Monte Carlo simulation number 10.\n",
      "Running Monte Carlo simulation number 20.\n",
      "Running Monte Carlo simulation number 30.\n",
      "Running Monte Carlo simulation number 40.\n",
      "Running Monte Carlo simulation number 50.\n",
      "Running Monte Carlo simulation number 60.\n",
      "Running Monte Carlo simulation number 70.\n",
      "Running Monte Carlo simulation number 80.\n",
      "Running Monte Carlo simulation number 90.\n",
      "Running Monte Carlo simulation number 100.\n",
      "Running Monte Carlo simulation number 110.\n",
      "Running Monte Carlo simulation number 120.\n",
      "Running Monte Carlo simulation number 130.\n",
      "Running Monte Carlo simulation number 140.\n",
      "Running Monte Carlo simulation number 150.\n",
      "Running Monte Carlo simulation number 160.\n",
      "Running Monte Carlo simulation number 170.\n",
      "Running Monte Carlo simulation number 180.\n",
      "Running Monte Carlo simulation number 190.\n",
      "Running Monte Carlo simulation number 200.\n",
      "Running Monte Carlo simulation number 210.\n",
      "Running Monte Carlo simulation number 220.\n",
      "Running Monte Carlo simulation number 230.\n",
      "Running Monte Carlo simulation number 240.\n",
      "Running Monte Carlo simulation number 250.\n",
      "Running Monte Carlo simulation number 260.\n",
      "Running Monte Carlo simulation number 270.\n",
      "Running Monte Carlo simulation number 280.\n",
      "Running Monte Carlo simulation number 290.\n",
      "Running Monte Carlo simulation number 300.\n",
      "Running Monte Carlo simulation number 310.\n",
      "Running Monte Carlo simulation number 320.\n",
      "Running Monte Carlo simulation number 330.\n",
      "Running Monte Carlo simulation number 340.\n",
      "Running Monte Carlo simulation number 350.\n",
      "Running Monte Carlo simulation number 360.\n",
      "Running Monte Carlo simulation number 370.\n",
      "Running Monte Carlo simulation number 380.\n",
      "Running Monte Carlo simulation number 390.\n",
      "Running Monte Carlo simulation number 400.\n",
      "Running Monte Carlo simulation number 410.\n",
      "Running Monte Carlo simulation number 420.\n",
      "Running Monte Carlo simulation number 430.\n",
      "Running Monte Carlo simulation number 440.\n",
      "Running Monte Carlo simulation number 450.\n",
      "Running Monte Carlo simulation number 460.\n",
      "Running Monte Carlo simulation number 470.\n",
      "Running Monte Carlo simulation number 480.\n",
      "Running Monte Carlo simulation number 490.\n"
     ]
    },
    {
     "data": {
      "text/html": [
       "<div>\n",
       "<style scoped>\n",
       "    .dataframe tbody tr th:only-of-type {\n",
       "        vertical-align: middle;\n",
       "    }\n",
       "\n",
       "    .dataframe tbody tr th {\n",
       "        vertical-align: top;\n",
       "    }\n",
       "\n",
       "    .dataframe thead th {\n",
       "        text-align: right;\n",
       "    }\n",
       "</style>\n",
       "<table border=\"1\" class=\"dataframe\">\n",
       "  <thead>\n",
       "    <tr style=\"text-align: right;\">\n",
       "      <th></th>\n",
       "      <th>0</th>\n",
       "      <th>1</th>\n",
       "      <th>2</th>\n",
       "      <th>3</th>\n",
       "      <th>4</th>\n",
       "      <th>5</th>\n",
       "      <th>6</th>\n",
       "      <th>7</th>\n",
       "      <th>8</th>\n",
       "      <th>9</th>\n",
       "      <th>...</th>\n",
       "      <th>490</th>\n",
       "      <th>491</th>\n",
       "      <th>492</th>\n",
       "      <th>493</th>\n",
       "      <th>494</th>\n",
       "      <th>495</th>\n",
       "      <th>496</th>\n",
       "      <th>497</th>\n",
       "      <th>498</th>\n",
       "      <th>499</th>\n",
       "    </tr>\n",
       "  </thead>\n",
       "  <tbody>\n",
       "    <tr>\n",
       "      <th>0</th>\n",
       "      <td>1.000000</td>\n",
       "      <td>1.000000</td>\n",
       "      <td>1.000000</td>\n",
       "      <td>1.000000</td>\n",
       "      <td>1.000000</td>\n",
       "      <td>1.000000</td>\n",
       "      <td>1.000000</td>\n",
       "      <td>1.000000</td>\n",
       "      <td>1.000000</td>\n",
       "      <td>1.000000</td>\n",
       "      <td>...</td>\n",
       "      <td>1.000000</td>\n",
       "      <td>1.000000</td>\n",
       "      <td>1.000000</td>\n",
       "      <td>1.000000</td>\n",
       "      <td>1.000000</td>\n",
       "      <td>1.000000</td>\n",
       "      <td>1.000000</td>\n",
       "      <td>1.000000</td>\n",
       "      <td>1.000000</td>\n",
       "      <td>1.000000</td>\n",
       "    </tr>\n",
       "    <tr>\n",
       "      <th>1</th>\n",
       "      <td>0.987243</td>\n",
       "      <td>1.004515</td>\n",
       "      <td>0.993101</td>\n",
       "      <td>0.990465</td>\n",
       "      <td>0.998570</td>\n",
       "      <td>0.998161</td>\n",
       "      <td>0.996391</td>\n",
       "      <td>1.003666</td>\n",
       "      <td>0.996484</td>\n",
       "      <td>0.992268</td>\n",
       "      <td>...</td>\n",
       "      <td>1.005370</td>\n",
       "      <td>1.008751</td>\n",
       "      <td>0.997047</td>\n",
       "      <td>0.993809</td>\n",
       "      <td>0.985143</td>\n",
       "      <td>1.014243</td>\n",
       "      <td>1.000599</td>\n",
       "      <td>0.999383</td>\n",
       "      <td>0.999288</td>\n",
       "      <td>1.001072</td>\n",
       "    </tr>\n",
       "    <tr>\n",
       "      <th>2</th>\n",
       "      <td>0.968757</td>\n",
       "      <td>0.997281</td>\n",
       "      <td>0.987421</td>\n",
       "      <td>0.998992</td>\n",
       "      <td>0.996827</td>\n",
       "      <td>0.997275</td>\n",
       "      <td>1.006050</td>\n",
       "      <td>1.006677</td>\n",
       "      <td>0.995849</td>\n",
       "      <td>0.984523</td>\n",
       "      <td>...</td>\n",
       "      <td>1.008656</td>\n",
       "      <td>1.013943</td>\n",
       "      <td>1.003717</td>\n",
       "      <td>0.998195</td>\n",
       "      <td>0.983229</td>\n",
       "      <td>1.007030</td>\n",
       "      <td>1.005225</td>\n",
       "      <td>0.992753</td>\n",
       "      <td>1.008491</td>\n",
       "      <td>0.998634</td>\n",
       "    </tr>\n",
       "    <tr>\n",
       "      <th>3</th>\n",
       "      <td>0.968205</td>\n",
       "      <td>0.990711</td>\n",
       "      <td>0.976550</td>\n",
       "      <td>1.001837</td>\n",
       "      <td>0.997797</td>\n",
       "      <td>0.997168</td>\n",
       "      <td>1.006858</td>\n",
       "      <td>0.996833</td>\n",
       "      <td>1.007725</td>\n",
       "      <td>0.988679</td>\n",
       "      <td>...</td>\n",
       "      <td>1.007938</td>\n",
       "      <td>1.008078</td>\n",
       "      <td>1.016768</td>\n",
       "      <td>1.005999</td>\n",
       "      <td>0.996001</td>\n",
       "      <td>1.010359</td>\n",
       "      <td>1.010909</td>\n",
       "      <td>1.007651</td>\n",
       "      <td>1.007151</td>\n",
       "      <td>1.006853</td>\n",
       "    </tr>\n",
       "    <tr>\n",
       "      <th>4</th>\n",
       "      <td>0.967250</td>\n",
       "      <td>0.996072</td>\n",
       "      <td>0.978260</td>\n",
       "      <td>1.003584</td>\n",
       "      <td>1.001194</td>\n",
       "      <td>0.983897</td>\n",
       "      <td>0.988620</td>\n",
       "      <td>1.002596</td>\n",
       "      <td>1.010553</td>\n",
       "      <td>0.997428</td>\n",
       "      <td>...</td>\n",
       "      <td>1.009301</td>\n",
       "      <td>1.011711</td>\n",
       "      <td>1.013352</td>\n",
       "      <td>1.007728</td>\n",
       "      <td>1.004048</td>\n",
       "      <td>1.011067</td>\n",
       "      <td>1.009909</td>\n",
       "      <td>1.005377</td>\n",
       "      <td>0.993927</td>\n",
       "      <td>1.011308</td>\n",
       "    </tr>\n",
       "    <tr>\n",
       "      <th>...</th>\n",
       "      <td>...</td>\n",
       "      <td>...</td>\n",
       "      <td>...</td>\n",
       "      <td>...</td>\n",
       "      <td>...</td>\n",
       "      <td>...</td>\n",
       "      <td>...</td>\n",
       "      <td>...</td>\n",
       "      <td>...</td>\n",
       "      <td>...</td>\n",
       "      <td>...</td>\n",
       "      <td>...</td>\n",
       "      <td>...</td>\n",
       "      <td>...</td>\n",
       "      <td>...</td>\n",
       "      <td>...</td>\n",
       "      <td>...</td>\n",
       "      <td>...</td>\n",
       "      <td>...</td>\n",
       "      <td>...</td>\n",
       "      <td>...</td>\n",
       "    </tr>\n",
       "    <tr>\n",
       "      <th>7556</th>\n",
       "      <td>5.961758</td>\n",
       "      <td>5.008059</td>\n",
       "      <td>13.237963</td>\n",
       "      <td>5.740177</td>\n",
       "      <td>10.076420</td>\n",
       "      <td>12.948409</td>\n",
       "      <td>17.548326</td>\n",
       "      <td>9.657789</td>\n",
       "      <td>21.930883</td>\n",
       "      <td>18.718004</td>\n",
       "      <td>...</td>\n",
       "      <td>3.043508</td>\n",
       "      <td>4.359453</td>\n",
       "      <td>5.913215</td>\n",
       "      <td>8.676316</td>\n",
       "      <td>2.762419</td>\n",
       "      <td>12.812490</td>\n",
       "      <td>12.609447</td>\n",
       "      <td>3.773298</td>\n",
       "      <td>13.563571</td>\n",
       "      <td>9.052459</td>\n",
       "    </tr>\n",
       "    <tr>\n",
       "      <th>7557</th>\n",
       "      <td>5.987003</td>\n",
       "      <td>5.054700</td>\n",
       "      <td>13.241202</td>\n",
       "      <td>5.767664</td>\n",
       "      <td>10.131464</td>\n",
       "      <td>12.827292</td>\n",
       "      <td>17.645992</td>\n",
       "      <td>9.676131</td>\n",
       "      <td>21.819203</td>\n",
       "      <td>18.757757</td>\n",
       "      <td>...</td>\n",
       "      <td>3.058140</td>\n",
       "      <td>4.360114</td>\n",
       "      <td>5.927528</td>\n",
       "      <td>8.663204</td>\n",
       "      <td>2.766144</td>\n",
       "      <td>12.886316</td>\n",
       "      <td>12.572923</td>\n",
       "      <td>3.751061</td>\n",
       "      <td>13.474493</td>\n",
       "      <td>8.974942</td>\n",
       "    </tr>\n",
       "    <tr>\n",
       "      <th>7558</th>\n",
       "      <td>5.993597</td>\n",
       "      <td>5.055292</td>\n",
       "      <td>13.284354</td>\n",
       "      <td>5.771133</td>\n",
       "      <td>10.004768</td>\n",
       "      <td>12.768810</td>\n",
       "      <td>17.767412</td>\n",
       "      <td>9.721683</td>\n",
       "      <td>21.778168</td>\n",
       "      <td>18.754292</td>\n",
       "      <td>...</td>\n",
       "      <td>3.015542</td>\n",
       "      <td>4.388792</td>\n",
       "      <td>5.922002</td>\n",
       "      <td>8.682720</td>\n",
       "      <td>2.787385</td>\n",
       "      <td>12.940273</td>\n",
       "      <td>12.668550</td>\n",
       "      <td>3.751062</td>\n",
       "      <td>13.513550</td>\n",
       "      <td>9.015159</td>\n",
       "    </tr>\n",
       "    <tr>\n",
       "      <th>7559</th>\n",
       "      <td>6.034860</td>\n",
       "      <td>5.040978</td>\n",
       "      <td>13.358811</td>\n",
       "      <td>5.792298</td>\n",
       "      <td>9.981858</td>\n",
       "      <td>12.734739</td>\n",
       "      <td>17.659862</td>\n",
       "      <td>9.696234</td>\n",
       "      <td>21.557359</td>\n",
       "      <td>18.748250</td>\n",
       "      <td>...</td>\n",
       "      <td>2.997559</td>\n",
       "      <td>4.408582</td>\n",
       "      <td>5.940049</td>\n",
       "      <td>8.655761</td>\n",
       "      <td>2.763011</td>\n",
       "      <td>12.932779</td>\n",
       "      <td>12.627573</td>\n",
       "      <td>3.731275</td>\n",
       "      <td>13.439298</td>\n",
       "      <td>9.086436</td>\n",
       "    </tr>\n",
       "    <tr>\n",
       "      <th>7560</th>\n",
       "      <td>5.916291</td>\n",
       "      <td>5.070918</td>\n",
       "      <td>13.231521</td>\n",
       "      <td>5.726682</td>\n",
       "      <td>10.059598</td>\n",
       "      <td>12.730500</td>\n",
       "      <td>17.650007</td>\n",
       "      <td>9.624504</td>\n",
       "      <td>21.805525</td>\n",
       "      <td>18.867059</td>\n",
       "      <td>...</td>\n",
       "      <td>2.978333</td>\n",
       "      <td>4.419054</td>\n",
       "      <td>5.879628</td>\n",
       "      <td>8.615636</td>\n",
       "      <td>2.791710</td>\n",
       "      <td>12.776628</td>\n",
       "      <td>12.563001</td>\n",
       "      <td>3.749606</td>\n",
       "      <td>13.490677</td>\n",
       "      <td>9.087929</td>\n",
       "    </tr>\n",
       "  </tbody>\n",
       "</table>\n",
       "<p>7561 rows × 500 columns</p>\n",
       "</div>"
      ],
      "text/plain": [
       "           0         1          2         3          4          5    \\\n",
       "0     1.000000  1.000000   1.000000  1.000000   1.000000   1.000000   \n",
       "1     0.987243  1.004515   0.993101  0.990465   0.998570   0.998161   \n",
       "2     0.968757  0.997281   0.987421  0.998992   0.996827   0.997275   \n",
       "3     0.968205  0.990711   0.976550  1.001837   0.997797   0.997168   \n",
       "4     0.967250  0.996072   0.978260  1.003584   1.001194   0.983897   \n",
       "...        ...       ...        ...       ...        ...        ...   \n",
       "7556  5.961758  5.008059  13.237963  5.740177  10.076420  12.948409   \n",
       "7557  5.987003  5.054700  13.241202  5.767664  10.131464  12.827292   \n",
       "7558  5.993597  5.055292  13.284354  5.771133  10.004768  12.768810   \n",
       "7559  6.034860  5.040978  13.358811  5.792298   9.981858  12.734739   \n",
       "7560  5.916291  5.070918  13.231521  5.726682  10.059598  12.730500   \n",
       "\n",
       "            6         7          8          9    ...       490       491  \\\n",
       "0      1.000000  1.000000   1.000000   1.000000  ...  1.000000  1.000000   \n",
       "1      0.996391  1.003666   0.996484   0.992268  ...  1.005370  1.008751   \n",
       "2      1.006050  1.006677   0.995849   0.984523  ...  1.008656  1.013943   \n",
       "3      1.006858  0.996833   1.007725   0.988679  ...  1.007938  1.008078   \n",
       "4      0.988620  1.002596   1.010553   0.997428  ...  1.009301  1.011711   \n",
       "...         ...       ...        ...        ...  ...       ...       ...   \n",
       "7556  17.548326  9.657789  21.930883  18.718004  ...  3.043508  4.359453   \n",
       "7557  17.645992  9.676131  21.819203  18.757757  ...  3.058140  4.360114   \n",
       "7558  17.767412  9.721683  21.778168  18.754292  ...  3.015542  4.388792   \n",
       "7559  17.659862  9.696234  21.557359  18.748250  ...  2.997559  4.408582   \n",
       "7560  17.650007  9.624504  21.805525  18.867059  ...  2.978333  4.419054   \n",
       "\n",
       "           492       493       494        495        496       497        498  \\\n",
       "0     1.000000  1.000000  1.000000   1.000000   1.000000  1.000000   1.000000   \n",
       "1     0.997047  0.993809  0.985143   1.014243   1.000599  0.999383   0.999288   \n",
       "2     1.003717  0.998195  0.983229   1.007030   1.005225  0.992753   1.008491   \n",
       "3     1.016768  1.005999  0.996001   1.010359   1.010909  1.007651   1.007151   \n",
       "4     1.013352  1.007728  1.004048   1.011067   1.009909  1.005377   0.993927   \n",
       "...        ...       ...       ...        ...        ...       ...        ...   \n",
       "7556  5.913215  8.676316  2.762419  12.812490  12.609447  3.773298  13.563571   \n",
       "7557  5.927528  8.663204  2.766144  12.886316  12.572923  3.751061  13.474493   \n",
       "7558  5.922002  8.682720  2.787385  12.940273  12.668550  3.751062  13.513550   \n",
       "7559  5.940049  8.655761  2.763011  12.932779  12.627573  3.731275  13.439298   \n",
       "7560  5.879628  8.615636  2.791710  12.776628  12.563001  3.749606  13.490677   \n",
       "\n",
       "           499  \n",
       "0     1.000000  \n",
       "1     1.001072  \n",
       "2     0.998634  \n",
       "3     1.006853  \n",
       "4     1.011308  \n",
       "...        ...  \n",
       "7556  9.052459  \n",
       "7557  8.974942  \n",
       "7558  9.015159  \n",
       "7559  9.086436  \n",
       "7560  9.087929  \n",
       "\n",
       "[7561 rows x 500 columns]"
      ]
     },
     "execution_count": 31,
     "metadata": {},
     "output_type": "execute_result"
    }
   ],
   "source": [
    "# Run the Monte Carlo simulation to forecast 30 years cumulative returns\n",
    "mc_portfolio.calc_cumulative_return()"
   ]
  },
  {
   "cell_type": "code",
   "execution_count": 32,
   "metadata": {},
   "outputs": [
    {
     "data": {
      "text/plain": [
       "<AxesSubplot:title={'center':'500 Simulations of Cumulative Portfolio Return Trajectories Over the Next 7560 Trading Days.'}>"
      ]
     },
     "execution_count": 32,
     "metadata": {},
     "output_type": "execute_result"
    },
    {
     "data": {
      "image/png": "[encoded data removed]",
      "text/plain": [
       "<Figure size 432x288 with 1 Axes>"
      ]
     },
     "metadata": {
      "needs_background": "light"
     },
     "output_type": "display_data"
    }
   ],
   "source": [
    "# Visualize the 30-year Monte Carlo simulation by creating an overlay line plot\n",
    "mc_portfolio.plot_simulation()"
   ]
  },
  {
   "cell_type": "markdown",
   "metadata": {},
   "source": [
    "#### Step 3: Plot the probability distribution of the Monte Carlo simulation."
   ]
  },
  {
   "cell_type": "code",
   "execution_count": 33,
   "metadata": {},
   "outputs": [
    {
     "data": {
      "text/plain": [
       "<AxesSubplot:title={'center':'Distribution of Final Cumuluative Returns Across All 500 Simulations'}, ylabel='Frequency'>"
      ]
     },
     "execution_count": 33,
     "metadata": {},
     "output_type": "execute_result"
    },
    {
     "data": {
      "image/png": "[encoded data removed]",
      "text/plain": [
       "<Figure size 432x288 with 1 Axes>"
      ]
     },
     "metadata": {
      "needs_background": "light"
     },
     "output_type": "display_data"
    }
   ],
   "source": [
    "# Visualize the probability distribution of the 30-year Monte Carlo simulation by plotting a histogram\n",
    "mc_portfolio.plot_distribution()"
   ]
  },
  {
   "cell_type": "markdown",
   "metadata": {},
   "source": [
    "#### Step 4: Generate the summary statistics for the Monte Carlo simulation."
   ]
  },
  {
   "cell_type": "code",
   "execution_count": 34,
   "metadata": {},
   "outputs": [
    {
     "name": "stdout",
     "output_type": "stream",
     "text": [
      "count           500.000000\n",
      "mean             10.267375\n",
      "std               5.994430\n",
      "min               1.574574\n",
      "25%               5.938856\n",
      "50%               8.622953\n",
      "75%              13.233189\n",
      "max              40.739094\n",
      "95% CI Lower      2.792996\n",
      "95% CI Upper     25.717065\n",
      "Name: 7560, dtype: float64\n"
     ]
    }
   ],
   "source": [
    "# Generate summary statistics from the 30-year Monte Carlo simulation results\n",
    "# Save the results as a variable\n",
    "sum_stats = mc_portfolio.summarize_cumulative_return()\n",
    "\n",
    "# Review the 30-year Monte Carlo summary statistics\n",
    "print(sum_stats)"
   ]
  },
  {
   "cell_type": "markdown",
   "metadata": {},
   "source": [
    "### Analyze the Retirement Portfolio Forecasts\n",
    "\n",
    "Using the current value of only the stock and bond portion of the member's portfolio and the summary statistics that you generated from the Monte Carlo simulation, answer the following question in your Jupyter notebook:\n",
    "\n",
    "-  What are the lower and upper bounds for the expected value of the portfolio with a 95% confidence interval?\n"
   ]
  },
  {
   "cell_type": "code",
   "execution_count": 35,
   "metadata": {},
   "outputs": [
    {
     "name": "stdout",
     "output_type": "stream",
     "text": [
      "The current balance of the stock and bond portion is $64184.90\n"
     ]
    }
   ],
   "source": [
    "# Print the current balance of the stock and bond portion of the members portfolio\n",
    "print(f\"The current balance of the stock and bond portion is ${total_stocks_bonds:0.2f}\")"
   ]
  },
  {
   "cell_type": "code",
   "execution_count": 50,
   "metadata": {},
   "outputs": [
    {
     "name": "stdout",
     "output_type": "stream",
     "text": [
      "There is a 95% chance that the stock/bond portfolio investment of $64184.90 will end within the range of $179268.19 and $1650647.24 over the next 30 years.\n"
     ]
    }
   ],
   "source": [
    "# Use the lower and upper `95%` confidence intervals to calculate the range of the possible outcomes for the current stock/bond portfolio\n",
    "ci_lower = sum_stats[8]* total_stocks_bonds\n",
    "ci_upper = sum_stats[9]* total_stocks_bonds\n",
    "\n",
    "# Print the result of your calculations\n",
    "print(f\"There is a 95% chance that the stock/bond portfolio investment of ${total_stocks_bonds:0.2f} will end within the range of ${ci_lower:0.2f} and ${ci_upper:0.2f} over the next 30 years.\")"
   ]
  },
  {
   "cell_type": "markdown",
   "metadata": {},
   "source": [
    "### Forecast Cumulative Returns in 10 Years\n",
    "\n",
    "The CTO of the credit union is impressed with your work on these planning tools but wonders if 30 years is a long time to wait until retirement. So, your next task is to adjust the retirement portfolio and run a new Monte Carlo simulation to find out if the changes will allow members to retire earlier.\n",
    "\n",
    "For this new Monte Carlo simulation, do the following: \n",
    "\n",
    "- Forecast the cumulative returns for 10 years from now. Because of the shortened investment horizon (30 years to 10 years), the portfolio needs to invest more heavily in the riskier asset&mdash;that is, stock&mdash;to help accumulate wealth for retirement. \n",
    "\n",
    "- Adjust the weights of the retirement portfolio so that the composition for the Monte Carlo simulation consists of 20% bonds and 80% stocks. \n",
    "\n",
    "- Run the simulation over 500 samples, and use the same data that the API call to Alpaca generated.\n",
    "\n",
    "- Based on the new Monte Carlo simulation, answer the following questions in your Jupyter notebook:\n",
    "\n",
    "    - Using the current value of only the stock and bond portion of the member's portfolio and the summary statistics that you generated from the new Monte Carlo simulation, what are the lower and upper bounds for the expected value of the portfolio (with the new weights) with a 95% confidence interval?\n",
    "\n",
    "    - Will weighting the portfolio more heavily toward stocks allow the credit union members to retire after only 10 years?\n"
   ]
  },
  {
   "cell_type": "code",
   "execution_count": 51,
   "metadata": {},
   "outputs": [
    {
     "data": {
      "text/html": [
       "<div>\n",
       "<style scoped>\n",
       "    .dataframe tbody tr th:only-of-type {\n",
       "        vertical-align: middle;\n",
       "    }\n",
       "\n",
       "    .dataframe tbody tr th {\n",
       "        vertical-align: top;\n",
       "    }\n",
       "\n",
       "    .dataframe thead tr th {\n",
       "        text-align: left;\n",
       "    }\n",
       "\n",
       "    .dataframe thead tr:last-of-type th {\n",
       "        text-align: right;\n",
       "    }\n",
       "</style>\n",
       "<table border=\"1\" class=\"dataframe\">\n",
       "  <thead>\n",
       "    <tr>\n",
       "      <th></th>\n",
       "      <th colspan=\"6\" halign=\"left\">AGG</th>\n",
       "      <th colspan=\"6\" halign=\"left\">SPY</th>\n",
       "    </tr>\n",
       "    <tr>\n",
       "      <th></th>\n",
       "      <th>open</th>\n",
       "      <th>high</th>\n",
       "      <th>low</th>\n",
       "      <th>close</th>\n",
       "      <th>volume</th>\n",
       "      <th>daily_return</th>\n",
       "      <th>open</th>\n",
       "      <th>high</th>\n",
       "      <th>low</th>\n",
       "      <th>close</th>\n",
       "      <th>volume</th>\n",
       "      <th>daily_return</th>\n",
       "    </tr>\n",
       "    <tr>\n",
       "      <th>time</th>\n",
       "      <th></th>\n",
       "      <th></th>\n",
       "      <th></th>\n",
       "      <th></th>\n",
       "      <th></th>\n",
       "      <th></th>\n",
       "      <th></th>\n",
       "      <th></th>\n",
       "      <th></th>\n",
       "      <th></th>\n",
       "      <th></th>\n",
       "      <th></th>\n",
       "    </tr>\n",
       "  </thead>\n",
       "  <tbody>\n",
       "    <tr>\n",
       "      <th>2011-02-04 00:00:00-05:00</th>\n",
       "      <td>104.51</td>\n",
       "      <td>104.630</td>\n",
       "      <td>104.2000</td>\n",
       "      <td>104.25</td>\n",
       "      <td>1090269</td>\n",
       "      <td>NaN</td>\n",
       "      <td>130.83</td>\n",
       "      <td>131.20</td>\n",
       "      <td>130.23</td>\n",
       "      <td>131.15</td>\n",
       "      <td>103598208</td>\n",
       "      <td>NaN</td>\n",
       "    </tr>\n",
       "    <tr>\n",
       "      <th>2011-02-07 00:00:00-05:00</th>\n",
       "      <td>104.17</td>\n",
       "      <td>104.331</td>\n",
       "      <td>104.1100</td>\n",
       "      <td>104.29</td>\n",
       "      <td>569006</td>\n",
       "      <td>0.000384</td>\n",
       "      <td>131.44</td>\n",
       "      <td>132.40</td>\n",
       "      <td>131.43</td>\n",
       "      <td>131.98</td>\n",
       "      <td>90480160</td>\n",
       "      <td>0.006329</td>\n",
       "    </tr>\n",
       "    <tr>\n",
       "      <th>2011-02-08 00:00:00-05:00</th>\n",
       "      <td>104.31</td>\n",
       "      <td>104.320</td>\n",
       "      <td>103.9100</td>\n",
       "      <td>103.99</td>\n",
       "      <td>692756</td>\n",
       "      <td>-0.002877</td>\n",
       "      <td>132.10</td>\n",
       "      <td>132.64</td>\n",
       "      <td>131.73</td>\n",
       "      <td>132.59</td>\n",
       "      <td>85774423</td>\n",
       "      <td>0.004622</td>\n",
       "    </tr>\n",
       "    <tr>\n",
       "      <th>2011-02-09 00:00:00-05:00</th>\n",
       "      <td>104.04</td>\n",
       "      <td>104.320</td>\n",
       "      <td>103.9301</td>\n",
       "      <td>104.19</td>\n",
       "      <td>484644</td>\n",
       "      <td>0.001923</td>\n",
       "      <td>132.21</td>\n",
       "      <td>132.63</td>\n",
       "      <td>131.61</td>\n",
       "      <td>132.27</td>\n",
       "      <td>121763230</td>\n",
       "      <td>-0.002413</td>\n",
       "    </tr>\n",
       "    <tr>\n",
       "      <th>2011-02-10 00:00:00-05:00</th>\n",
       "      <td>104.11</td>\n",
       "      <td>104.170</td>\n",
       "      <td>103.8500</td>\n",
       "      <td>103.89</td>\n",
       "      <td>485735</td>\n",
       "      <td>-0.002879</td>\n",
       "      <td>131.60</td>\n",
       "      <td>132.47</td>\n",
       "      <td>131.30</td>\n",
       "      <td>132.33</td>\n",
       "      <td>140547328</td>\n",
       "      <td>0.000454</td>\n",
       "    </tr>\n",
       "  </tbody>\n",
       "</table>\n",
       "</div>"
      ],
      "text/plain": [
       "                              AGG                                      \\\n",
       "                             open     high       low   close   volume   \n",
       "time                                                                    \n",
       "2011-02-04 00:00:00-05:00  104.51  104.630  104.2000  104.25  1090269   \n",
       "2011-02-07 00:00:00-05:00  104.17  104.331  104.1100  104.29   569006   \n",
       "2011-02-08 00:00:00-05:00  104.31  104.320  103.9100  103.99   692756   \n",
       "2011-02-09 00:00:00-05:00  104.04  104.320  103.9301  104.19   484644   \n",
       "2011-02-10 00:00:00-05:00  104.11  104.170  103.8500  103.89   485735   \n",
       "\n",
       "                                           SPY                          \\\n",
       "                          daily_return    open    high     low   close   \n",
       "time                                                                     \n",
       "2011-02-04 00:00:00-05:00          NaN  130.83  131.20  130.23  131.15   \n",
       "2011-02-07 00:00:00-05:00     0.000384  131.44  132.40  131.43  131.98   \n",
       "2011-02-08 00:00:00-05:00    -0.002877  132.10  132.64  131.73  132.59   \n",
       "2011-02-09 00:00:00-05:00     0.001923  132.21  132.63  131.61  132.27   \n",
       "2011-02-10 00:00:00-05:00    -0.002879  131.60  132.47  131.30  132.33   \n",
       "\n",
       "                                                   \n",
       "                              volume daily_return  \n",
       "time                                               \n",
       "2011-02-04 00:00:00-05:00  103598208          NaN  \n",
       "2011-02-07 00:00:00-05:00   90480160     0.006329  \n",
       "2011-02-08 00:00:00-05:00   85774423     0.004622  \n",
       "2011-02-09 00:00:00-05:00  121763230    -0.002413  \n",
       "2011-02-10 00:00:00-05:00  140547328     0.000454  "
      ]
     },
     "execution_count": 51,
     "metadata": {},
     "output_type": "execute_result"
    }
   ],
   "source": [
    "# Configure a Monte Carlo simulation to forecast 10 years cumulative returns\n",
    "# The weights should be split 20% to AGG and 80% to SPY\n",
    "# Run 500 samples\n",
    "num_simulation = 500\n",
    "\n",
    "mc_ten_portfolio = MCSimulation(\n",
    "    portfolio_data = pricing_data,\n",
    "    num_simulation = num_simulation,\n",
    "    num_trading_days = 252*10,\n",
    "    weights = [.20,.80]\n",
    ")\n",
    "\n",
    "# Review the simulation input data\n",
    "mc_ten_portfolio.portfolio_data.head()"
   ]
  },
  {
   "cell_type": "code",
   "execution_count": 38,
   "metadata": {},
   "outputs": [
    {
     "name": "stdout",
     "output_type": "stream",
     "text": [
      "Running Monte Carlo simulation number 0.\n",
      "Running Monte Carlo simulation number 10.\n",
      "Running Monte Carlo simulation number 20.\n",
      "Running Monte Carlo simulation number 30.\n",
      "Running Monte Carlo simulation number 40.\n",
      "Running Monte Carlo simulation number 50.\n",
      "Running Monte Carlo simulation number 60.\n",
      "Running Monte Carlo simulation number 70.\n",
      "Running Monte Carlo simulation number 80.\n",
      "Running Monte Carlo simulation number 90.\n",
      "Running Monte Carlo simulation number 100.\n",
      "Running Monte Carlo simulation number 110.\n",
      "Running Monte Carlo simulation number 120.\n",
      "Running Monte Carlo simulation number 130.\n",
      "Running Monte Carlo simulation number 140.\n",
      "Running Monte Carlo simulation number 150.\n",
      "Running Monte Carlo simulation number 160.\n",
      "Running Monte Carlo simulation number 170.\n",
      "Running Monte Carlo simulation number 180.\n",
      "Running Monte Carlo simulation number 190.\n",
      "Running Monte Carlo simulation number 200.\n",
      "Running Monte Carlo simulation number 210.\n",
      "Running Monte Carlo simulation number 220.\n",
      "Running Monte Carlo simulation number 230.\n",
      "Running Monte Carlo simulation number 240.\n",
      "Running Monte Carlo simulation number 250.\n",
      "Running Monte Carlo simulation number 260.\n",
      "Running Monte Carlo simulation number 270.\n",
      "Running Monte Carlo simulation number 280.\n",
      "Running Monte Carlo simulation number 290.\n",
      "Running Monte Carlo simulation number 300.\n",
      "Running Monte Carlo simulation number 310.\n",
      "Running Monte Carlo simulation number 320.\n",
      "Running Monte Carlo simulation number 330.\n",
      "Running Monte Carlo simulation number 340.\n",
      "Running Monte Carlo simulation number 350.\n",
      "Running Monte Carlo simulation number 360.\n",
      "Running Monte Carlo simulation number 370.\n",
      "Running Monte Carlo simulation number 380.\n",
      "Running Monte Carlo simulation number 390.\n",
      "Running Monte Carlo simulation number 400.\n",
      "Running Monte Carlo simulation number 410.\n",
      "Running Monte Carlo simulation number 420.\n",
      "Running Monte Carlo simulation number 430.\n",
      "Running Monte Carlo simulation number 440.\n",
      "Running Monte Carlo simulation number 450.\n",
      "Running Monte Carlo simulation number 460.\n",
      "Running Monte Carlo simulation number 470.\n",
      "Running Monte Carlo simulation number 480.\n",
      "Running Monte Carlo simulation number 490.\n"
     ]
    },
    {
     "data": {
      "text/html": [
       "<div>\n",
       "<style scoped>\n",
       "    .dataframe tbody tr th:only-of-type {\n",
       "        vertical-align: middle;\n",
       "    }\n",
       "\n",
       "    .dataframe tbody tr th {\n",
       "        vertical-align: top;\n",
       "    }\n",
       "\n",
       "    .dataframe thead th {\n",
       "        text-align: right;\n",
       "    }\n",
       "</style>\n",
       "<table border=\"1\" class=\"dataframe\">\n",
       "  <thead>\n",
       "    <tr style=\"text-align: right;\">\n",
       "      <th></th>\n",
       "      <th>0</th>\n",
       "      <th>1</th>\n",
       "      <th>2</th>\n",
       "      <th>3</th>\n",
       "      <th>4</th>\n",
       "      <th>5</th>\n",
       "      <th>6</th>\n",
       "      <th>7</th>\n",
       "      <th>8</th>\n",
       "      <th>9</th>\n",
       "      <th>...</th>\n",
       "      <th>490</th>\n",
       "      <th>491</th>\n",
       "      <th>492</th>\n",
       "      <th>493</th>\n",
       "      <th>494</th>\n",
       "      <th>495</th>\n",
       "      <th>496</th>\n",
       "      <th>497</th>\n",
       "      <th>498</th>\n",
       "      <th>499</th>\n",
       "    </tr>\n",
       "  </thead>\n",
       "  <tbody>\n",
       "    <tr>\n",
       "      <th>0</th>\n",
       "      <td>1.000000</td>\n",
       "      <td>1.000000</td>\n",
       "      <td>1.000000</td>\n",
       "      <td>1.000000</td>\n",
       "      <td>1.000000</td>\n",
       "      <td>1.000000</td>\n",
       "      <td>1.000000</td>\n",
       "      <td>1.000000</td>\n",
       "      <td>1.000000</td>\n",
       "      <td>1.000000</td>\n",
       "      <td>...</td>\n",
       "      <td>1.000000</td>\n",
       "      <td>1.000000</td>\n",
       "      <td>1.000000</td>\n",
       "      <td>1.000000</td>\n",
       "      <td>1.000000</td>\n",
       "      <td>1.000000</td>\n",
       "      <td>1.000000</td>\n",
       "      <td>1.000000</td>\n",
       "      <td>1.000000</td>\n",
       "      <td>1.000000</td>\n",
       "    </tr>\n",
       "    <tr>\n",
       "      <th>1</th>\n",
       "      <td>0.999371</td>\n",
       "      <td>0.990464</td>\n",
       "      <td>0.999852</td>\n",
       "      <td>1.013256</td>\n",
       "      <td>1.008368</td>\n",
       "      <td>1.000065</td>\n",
       "      <td>0.993341</td>\n",
       "      <td>0.994734</td>\n",
       "      <td>1.001886</td>\n",
       "      <td>1.001462</td>\n",
       "      <td>...</td>\n",
       "      <td>1.000175</td>\n",
       "      <td>1.008637</td>\n",
       "      <td>1.014272</td>\n",
       "      <td>0.992298</td>\n",
       "      <td>1.011484</td>\n",
       "      <td>0.993582</td>\n",
       "      <td>1.003458</td>\n",
       "      <td>0.996396</td>\n",
       "      <td>0.993908</td>\n",
       "      <td>0.996832</td>\n",
       "    </tr>\n",
       "    <tr>\n",
       "      <th>2</th>\n",
       "      <td>1.009731</td>\n",
       "      <td>0.997965</td>\n",
       "      <td>0.982531</td>\n",
       "      <td>1.003834</td>\n",
       "      <td>0.994059</td>\n",
       "      <td>0.990780</td>\n",
       "      <td>0.991438</td>\n",
       "      <td>0.988549</td>\n",
       "      <td>0.997045</td>\n",
       "      <td>1.011528</td>\n",
       "      <td>...</td>\n",
       "      <td>1.003331</td>\n",
       "      <td>1.022918</td>\n",
       "      <td>1.018871</td>\n",
       "      <td>0.992343</td>\n",
       "      <td>1.003196</td>\n",
       "      <td>1.001694</td>\n",
       "      <td>1.005074</td>\n",
       "      <td>0.995430</td>\n",
       "      <td>0.991414</td>\n",
       "      <td>0.983589</td>\n",
       "    </tr>\n",
       "    <tr>\n",
       "      <th>3</th>\n",
       "      <td>1.012947</td>\n",
       "      <td>1.005332</td>\n",
       "      <td>0.992316</td>\n",
       "      <td>1.010619</td>\n",
       "      <td>0.995161</td>\n",
       "      <td>0.994104</td>\n",
       "      <td>0.990339</td>\n",
       "      <td>0.996715</td>\n",
       "      <td>0.988611</td>\n",
       "      <td>1.015507</td>\n",
       "      <td>...</td>\n",
       "      <td>1.019811</td>\n",
       "      <td>1.020213</td>\n",
       "      <td>1.015433</td>\n",
       "      <td>1.003025</td>\n",
       "      <td>0.999558</td>\n",
       "      <td>0.990118</td>\n",
       "      <td>1.017488</td>\n",
       "      <td>0.985104</td>\n",
       "      <td>0.996020</td>\n",
       "      <td>0.991976</td>\n",
       "    </tr>\n",
       "    <tr>\n",
       "      <th>4</th>\n",
       "      <td>1.023578</td>\n",
       "      <td>1.005334</td>\n",
       "      <td>0.984895</td>\n",
       "      <td>1.018803</td>\n",
       "      <td>0.976348</td>\n",
       "      <td>0.990899</td>\n",
       "      <td>0.984459</td>\n",
       "      <td>0.987812</td>\n",
       "      <td>0.991608</td>\n",
       "      <td>1.010336</td>\n",
       "      <td>...</td>\n",
       "      <td>1.012257</td>\n",
       "      <td>1.018057</td>\n",
       "      <td>1.020408</td>\n",
       "      <td>1.002197</td>\n",
       "      <td>1.010400</td>\n",
       "      <td>0.982300</td>\n",
       "      <td>1.012639</td>\n",
       "      <td>0.980504</td>\n",
       "      <td>0.998905</td>\n",
       "      <td>0.995545</td>\n",
       "    </tr>\n",
       "    <tr>\n",
       "      <th>...</th>\n",
       "      <td>...</td>\n",
       "      <td>...</td>\n",
       "      <td>...</td>\n",
       "      <td>...</td>\n",
       "      <td>...</td>\n",
       "      <td>...</td>\n",
       "      <td>...</td>\n",
       "      <td>...</td>\n",
       "      <td>...</td>\n",
       "      <td>...</td>\n",
       "      <td>...</td>\n",
       "      <td>...</td>\n",
       "      <td>...</td>\n",
       "      <td>...</td>\n",
       "      <td>...</td>\n",
       "      <td>...</td>\n",
       "      <td>...</td>\n",
       "      <td>...</td>\n",
       "      <td>...</td>\n",
       "      <td>...</td>\n",
       "      <td>...</td>\n",
       "    </tr>\n",
       "    <tr>\n",
       "      <th>2516</th>\n",
       "      <td>1.787004</td>\n",
       "      <td>2.483309</td>\n",
       "      <td>1.440331</td>\n",
       "      <td>2.080833</td>\n",
       "      <td>2.230587</td>\n",
       "      <td>2.314917</td>\n",
       "      <td>1.536960</td>\n",
       "      <td>2.516123</td>\n",
       "      <td>2.415672</td>\n",
       "      <td>2.524691</td>\n",
       "      <td>...</td>\n",
       "      <td>1.925738</td>\n",
       "      <td>2.129979</td>\n",
       "      <td>2.223165</td>\n",
       "      <td>4.102065</td>\n",
       "      <td>1.408418</td>\n",
       "      <td>1.175754</td>\n",
       "      <td>4.614845</td>\n",
       "      <td>1.954816</td>\n",
       "      <td>2.204617</td>\n",
       "      <td>2.503323</td>\n",
       "    </tr>\n",
       "    <tr>\n",
       "      <th>2517</th>\n",
       "      <td>1.798169</td>\n",
       "      <td>2.484335</td>\n",
       "      <td>1.441611</td>\n",
       "      <td>2.096079</td>\n",
       "      <td>2.185059</td>\n",
       "      <td>2.287942</td>\n",
       "      <td>1.522829</td>\n",
       "      <td>2.481512</td>\n",
       "      <td>2.391508</td>\n",
       "      <td>2.529244</td>\n",
       "      <td>...</td>\n",
       "      <td>1.917079</td>\n",
       "      <td>2.127657</td>\n",
       "      <td>2.204322</td>\n",
       "      <td>4.156301</td>\n",
       "      <td>1.422875</td>\n",
       "      <td>1.179832</td>\n",
       "      <td>4.607441</td>\n",
       "      <td>1.958504</td>\n",
       "      <td>2.235515</td>\n",
       "      <td>2.535561</td>\n",
       "    </tr>\n",
       "    <tr>\n",
       "      <th>2518</th>\n",
       "      <td>1.790727</td>\n",
       "      <td>2.493344</td>\n",
       "      <td>1.425458</td>\n",
       "      <td>2.073135</td>\n",
       "      <td>2.164552</td>\n",
       "      <td>2.276444</td>\n",
       "      <td>1.515611</td>\n",
       "      <td>2.473791</td>\n",
       "      <td>2.382386</td>\n",
       "      <td>2.515934</td>\n",
       "      <td>...</td>\n",
       "      <td>1.911727</td>\n",
       "      <td>2.098746</td>\n",
       "      <td>2.173066</td>\n",
       "      <td>4.199100</td>\n",
       "      <td>1.400368</td>\n",
       "      <td>1.181674</td>\n",
       "      <td>4.644165</td>\n",
       "      <td>1.980943</td>\n",
       "      <td>2.254128</td>\n",
       "      <td>2.516600</td>\n",
       "    </tr>\n",
       "    <tr>\n",
       "      <th>2519</th>\n",
       "      <td>1.791404</td>\n",
       "      <td>2.482474</td>\n",
       "      <td>1.414902</td>\n",
       "      <td>2.060918</td>\n",
       "      <td>2.126754</td>\n",
       "      <td>2.290320</td>\n",
       "      <td>1.541222</td>\n",
       "      <td>2.505132</td>\n",
       "      <td>2.393881</td>\n",
       "      <td>2.472643</td>\n",
       "      <td>...</td>\n",
       "      <td>1.929065</td>\n",
       "      <td>2.121366</td>\n",
       "      <td>2.206194</td>\n",
       "      <td>4.188051</td>\n",
       "      <td>1.406566</td>\n",
       "      <td>1.171276</td>\n",
       "      <td>4.709999</td>\n",
       "      <td>1.983091</td>\n",
       "      <td>2.266542</td>\n",
       "      <td>2.513799</td>\n",
       "    </tr>\n",
       "    <tr>\n",
       "      <th>2520</th>\n",
       "      <td>1.814504</td>\n",
       "      <td>2.492850</td>\n",
       "      <td>1.437542</td>\n",
       "      <td>2.069575</td>\n",
       "      <td>2.170322</td>\n",
       "      <td>2.295985</td>\n",
       "      <td>1.551841</td>\n",
       "      <td>2.526115</td>\n",
       "      <td>2.423643</td>\n",
       "      <td>2.485868</td>\n",
       "      <td>...</td>\n",
       "      <td>1.918116</td>\n",
       "      <td>2.115211</td>\n",
       "      <td>2.224102</td>\n",
       "      <td>4.202898</td>\n",
       "      <td>1.406562</td>\n",
       "      <td>1.181807</td>\n",
       "      <td>4.707303</td>\n",
       "      <td>2.021951</td>\n",
       "      <td>2.275043</td>\n",
       "      <td>2.505754</td>\n",
       "    </tr>\n",
       "  </tbody>\n",
       "</table>\n",
       "<p>2521 rows × 500 columns</p>\n",
       "</div>"
      ],
      "text/plain": [
       "           0         1         2         3         4         5         6    \\\n",
       "0     1.000000  1.000000  1.000000  1.000000  1.000000  1.000000  1.000000   \n",
       "1     0.999371  0.990464  0.999852  1.013256  1.008368  1.000065  0.993341   \n",
       "2     1.009731  0.997965  0.982531  1.003834  0.994059  0.990780  0.991438   \n",
       "3     1.012947  1.005332  0.992316  1.010619  0.995161  0.994104  0.990339   \n",
       "4     1.023578  1.005334  0.984895  1.018803  0.976348  0.990899  0.984459   \n",
       "...        ...       ...       ...       ...       ...       ...       ...   \n",
       "2516  1.787004  2.483309  1.440331  2.080833  2.230587  2.314917  1.536960   \n",
       "2517  1.798169  2.484335  1.441611  2.096079  2.185059  2.287942  1.522829   \n",
       "2518  1.790727  2.493344  1.425458  2.073135  2.164552  2.276444  1.515611   \n",
       "2519  1.791404  2.482474  1.414902  2.060918  2.126754  2.290320  1.541222   \n",
       "2520  1.814504  2.492850  1.437542  2.069575  2.170322  2.295985  1.551841   \n",
       "\n",
       "           7         8         9    ...       490       491       492  \\\n",
       "0     1.000000  1.000000  1.000000  ...  1.000000  1.000000  1.000000   \n",
       "1     0.994734  1.001886  1.001462  ...  1.000175  1.008637  1.014272   \n",
       "2     0.988549  0.997045  1.011528  ...  1.003331  1.022918  1.018871   \n",
       "3     0.996715  0.988611  1.015507  ...  1.019811  1.020213  1.015433   \n",
       "4     0.987812  0.991608  1.010336  ...  1.012257  1.018057  1.020408   \n",
       "...        ...       ...       ...  ...       ...       ...       ...   \n",
       "2516  2.516123  2.415672  2.524691  ...  1.925738  2.129979  2.223165   \n",
       "2517  2.481512  2.391508  2.529244  ...  1.917079  2.127657  2.204322   \n",
       "2518  2.473791  2.382386  2.515934  ...  1.911727  2.098746  2.173066   \n",
       "2519  2.505132  2.393881  2.472643  ...  1.929065  2.121366  2.206194   \n",
       "2520  2.526115  2.423643  2.485868  ...  1.918116  2.115211  2.224102   \n",
       "\n",
       "           493       494       495       496       497       498       499  \n",
       "0     1.000000  1.000000  1.000000  1.000000  1.000000  1.000000  1.000000  \n",
       "1     0.992298  1.011484  0.993582  1.003458  0.996396  0.993908  0.996832  \n",
       "2     0.992343  1.003196  1.001694  1.005074  0.995430  0.991414  0.983589  \n",
       "3     1.003025  0.999558  0.990118  1.017488  0.985104  0.996020  0.991976  \n",
       "4     1.002197  1.010400  0.982300  1.012639  0.980504  0.998905  0.995545  \n",
       "...        ...       ...       ...       ...       ...       ...       ...  \n",
       "2516  4.102065  1.408418  1.175754  4.614845  1.954816  2.204617  2.503323  \n",
       "2517  4.156301  1.422875  1.179832  4.607441  1.958504  2.235515  2.535561  \n",
       "2518  4.199100  1.400368  1.181674  4.644165  1.980943  2.254128  2.516600  \n",
       "2519  4.188051  1.406566  1.171276  4.709999  1.983091  2.266542  2.513799  \n",
       "2520  4.202898  1.406562  1.181807  4.707303  2.021951  2.275043  2.505754  \n",
       "\n",
       "[2521 rows x 500 columns]"
      ]
     },
     "execution_count": 38,
     "metadata": {},
     "output_type": "execute_result"
    }
   ],
   "source": [
    "# Run the Monte Carlo simulation to forecast 10 years cumulative returns\n",
    "mc_ten_portfolio.calc_cumulative_return()"
   ]
  },
  {
   "cell_type": "code",
   "execution_count": 39,
   "metadata": {},
   "outputs": [
    {
     "data": {
      "text/plain": [
       "<AxesSubplot:title={'center':'500 Simulations of Cumulative Portfolio Return Trajectories Over the Next 2520 Trading Days.'}>"
      ]
     },
     "execution_count": 39,
     "metadata": {},
     "output_type": "execute_result"
    },
    {
     "data": {
      "image/png": "[encoded data removed]",
      "text/plain": [
       "<Figure size 432x288 with 1 Axes>"
      ]
     },
     "metadata": {
      "needs_background": "light"
     },
     "output_type": "display_data"
    }
   ],
   "source": [
    "# Visualize the 10-year Monte Carlo simulation by creating an overlay line plot\n",
    "mc_ten_portfolio.plot_simulation()"
   ]
  },
  {
   "cell_type": "code",
   "execution_count": 40,
   "metadata": {},
   "outputs": [
    {
     "data": {
      "text/plain": [
       "<AxesSubplot:title={'center':'Distribution of Final Cumuluative Returns Across All 500 Simulations'}, ylabel='Frequency'>"
      ]
     },
     "execution_count": 40,
     "metadata": {},
     "output_type": "execute_result"
    },
    {
     "data": {
      "image/png": "[encoded data removed]",
      "text/plain": [
       "<Figure size 432x288 with 1 Axes>"
      ]
     },
     "metadata": {
      "needs_background": "light"
     },
     "output_type": "display_data"
    }
   ],
   "source": [
    "# Visualize the probability distribution of the 10-year Monte Carlo simulation by plotting a histogram\n",
    "mc_ten_portfolio.plot_distribution()"
   ]
  },
  {
   "cell_type": "code",
   "execution_count": 41,
   "metadata": {},
   "outputs": [
    {
     "name": "stdout",
     "output_type": "stream",
     "text": [
      "count           500.000000\n",
      "mean              2.780219\n",
      "std               1.298014\n",
      "min               0.578783\n",
      "25%               1.863402\n",
      "50%               2.449088\n",
      "75%               3.339276\n",
      "max               8.900774\n",
      "95% CI Lower      1.139667\n",
      "95% CI Upper      6.002489\n",
      "Name: 2520, dtype: float64\n"
     ]
    }
   ],
   "source": [
    "# Generate summary statistics from the 10-year Monte Carlo simulation results\n",
    "# Save the results as a variable\n",
    "ten_sum_stats = mc_ten_portfolio.summarize_cumulative_return()\n",
    "\n",
    "# Review the 10-year Monte Carlo summary statistics\n",
    "print(ten_sum_stats)"
   ]
  },
  {
   "cell_type": "markdown",
   "metadata": {},
   "source": [
    "### Answer the following questions:"
   ]
  },
  {
   "cell_type": "markdown",
   "metadata": {},
   "source": [
    "#### Question: Using the current value of only the stock and bond portion of the member's portfolio and the summary statistics that you generated from the new Monte Carlo simulation, what are the lower and upper bounds for the expected value of the portfolio (with the new weights) with a 95% confidence interval?"
   ]
  },
  {
   "cell_type": "code",
   "execution_count": 42,
   "metadata": {},
   "outputs": [
    {
     "name": "stdout",
     "output_type": "stream",
     "text": [
      "The current balance of the stock and bond portion is $64184.90\n"
     ]
    }
   ],
   "source": [
    "# Print the current balance of the stock and bond portion of the members portfolio\n",
    "print(f\"The current balance of the stock and bond portion is ${total_stocks_bonds:0.2f}\")"
   ]
  },
  {
   "cell_type": "code",
   "execution_count": 43,
   "metadata": {},
   "outputs": [
    {
     "name": "stdout",
     "output_type": "stream",
     "text": [
      "There is a 95% chance that the stock/bond portfolio investment of $64184.90 will end within the range of $73149.38 and $385269.18 over the next 10 years.\n"
     ]
    }
   ],
   "source": [
    "# Use the lower and upper `95%` confidence intervals to calculate the range of the possible outcomes for the current stock/bond portfolio\n",
    "ci_lower_ten = ten_sum_stats[8] * total_stocks_bonds\n",
    "ci_upper_ten = ten_sum_stats[9]* total_stocks_bonds\n",
    "\n",
    "# Print the result of your calculations\n",
    "print(f\"There is a 95% chance that the stock/bond portfolio investment of ${total_stocks_bonds:0.2f} will end within the range of ${ci_lower_ten:0.2f} and ${ci_upper_ten:0.2f} over the next 10 years.\")"
   ]
  },
  {
   "cell_type": "markdown",
   "metadata": {},
   "source": [
    "#### Question: Will weighting the portfolio more heavily to stocks allow the credit union members to retire after only 10 years?"
   ]
  },
  {
   "cell_type": "raw",
   "metadata": {},
   "source": [
    "Weighing the portfolio more heavily to stocks and reducing the time to retire to 10 years will allow the credit union members to have more in their portfolio than their suggested emergency fund, even if they end up with the lower confidence interval, which would be $73149.38. \n",
    "However, their current annual gross income is $144,000, which is double that amount, making it too risky to live comfortably in retirement. "
   ]
  }
 ],
 "metadata": {
  "kernelspec": {
   "display_name": "Python (dev)",
   "language": "python",
   "name": "dev"
  },
  "language_info": {
   "codemirror_mode": {
    "name": "ipython",
    "version": 3
   },
   "file_extension": ".py",
   "mimetype": "text/x-python",
   "name": "python",
   "nbconvert_exporter": "python",
   "pygments_lexer": "ipython3",
   "version": "3.7.9"
  }
 },
 "nbformat": 4,
 "nbformat_minor": 4
}
